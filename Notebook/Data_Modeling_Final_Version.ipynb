{
  "nbformat": 4,
  "nbformat_minor": 0,
  "metadata": {
    "colab": {
      "provenance": [],
      "collapsed_sections": [
        "5-bB1rOeT3zi",
        "mzfJh1Jz66ci",
        "YIT4funZwQLU",
        "966x2nCYUTsz",
        "xqh0d-CNUZRV",
        "hrhEs2n3Ugs1",
        "T6RuKYJUUnbo",
        "mdi3LFPoU4Qz",
        "96nGtFM0VAmk"
      ]
    },
    "kernelspec": {
      "name": "python3",
      "display_name": "Python 3"
    },
    "language_info": {
      "name": "python"
    },
    "accelerator": "TPU",
    "gpuClass": "standard"
  },
  "cells": [
    {
      "cell_type": "markdown",
      "source": [
        "# **Data Modeling**\n",
        "\n",
        "\n",
        "---\n",
        "\n",
        "\n",
        "\n",
        "---\n",
        "\n",
        "In this third and the last part of the series, we will built models on the Covid-19 tweets data on supervised machine learning models. We are using a general machine learning pipeline to outline this project.\n",
        "\n",
        "## Import Data & Libraries\n",
        "## Data Info\n",
        "## **Tokenization**\n",
        "## Data Cleaning and Formatting\n",
        "## **Lemmatization**\n",
        "## Feature selection\n",
        "## Split Train/Test\n",
        "## **TF-IDF**\n",
        "## Establish a baseline\n",
        "# **Machine Learning Models**\n",
        "### 1. Random Forest Classifer\n",
        "### 2. Naive Bayes Classifier\n",
        "### 3. Stochastic Gradient Decent Classifier\n",
        "### 4. Extreme Gradient Boosting Classifier\n",
        "### 5. Logistic Regression Classifier\n",
        "### 6. Support Vector Machine Classifier\n",
        "### 7. Linear Support Vector Machine Classifier\n",
        "## **Model Accuracy Comparison**\n",
        "## **Hyperparameter Tuning**\n",
        "## **Feature Importance**\n",
        "## **Conclusion**\n",
        "## Future Work"
      ],
      "metadata": {
        "id": "tWgz3h2ZT_kr"
      }
    },
    {
      "cell_type": "markdown",
      "source": [
        "## Uploads"
      ],
      "metadata": {
        "id": "0bWX5XRoT0qv"
      }
    },
    {
      "cell_type": "code",
      "execution_count": 2,
      "metadata": {
        "colab": {
          "base_uri": "https://localhost:8080/",
          "height": 73
        },
        "id": "bKggGkZgT1ul",
        "outputId": "88da900f-caaa-4b35-cb86-7f1751594830"
      },
      "outputs": [
        {
          "output_type": "display_data",
          "data": {
            "text/plain": [
              "<IPython.core.display.HTML object>"
            ],
            "text/html": [
              "\n",
              "     <input type=\"file\" id=\"files-394645ed-880a-4473-927b-e8d5bc39edb9\" name=\"files[]\" multiple disabled\n",
              "        style=\"border:none\" />\n",
              "     <output id=\"result-394645ed-880a-4473-927b-e8d5bc39edb9\">\n",
              "      Upload widget is only available when the cell has been executed in the\n",
              "      current browser session. Please rerun this cell to enable.\n",
              "      </output>\n",
              "      <script>// Copyright 2017 Google LLC\n",
              "//\n",
              "// Licensed under the Apache License, Version 2.0 (the \"License\");\n",
              "// you may not use this file except in compliance with the License.\n",
              "// You may obtain a copy of the License at\n",
              "//\n",
              "//      http://www.apache.org/licenses/LICENSE-2.0\n",
              "//\n",
              "// Unless required by applicable law or agreed to in writing, software\n",
              "// distributed under the License is distributed on an \"AS IS\" BASIS,\n",
              "// WITHOUT WARRANTIES OR CONDITIONS OF ANY KIND, either express or implied.\n",
              "// See the License for the specific language governing permissions and\n",
              "// limitations under the License.\n",
              "\n",
              "/**\n",
              " * @fileoverview Helpers for google.colab Python module.\n",
              " */\n",
              "(function(scope) {\n",
              "function span(text, styleAttributes = {}) {\n",
              "  const element = document.createElement('span');\n",
              "  element.textContent = text;\n",
              "  for (const key of Object.keys(styleAttributes)) {\n",
              "    element.style[key] = styleAttributes[key];\n",
              "  }\n",
              "  return element;\n",
              "}\n",
              "\n",
              "// Max number of bytes which will be uploaded at a time.\n",
              "const MAX_PAYLOAD_SIZE = 100 * 1024;\n",
              "\n",
              "function _uploadFiles(inputId, outputId) {\n",
              "  const steps = uploadFilesStep(inputId, outputId);\n",
              "  const outputElement = document.getElementById(outputId);\n",
              "  // Cache steps on the outputElement to make it available for the next call\n",
              "  // to uploadFilesContinue from Python.\n",
              "  outputElement.steps = steps;\n",
              "\n",
              "  return _uploadFilesContinue(outputId);\n",
              "}\n",
              "\n",
              "// This is roughly an async generator (not supported in the browser yet),\n",
              "// where there are multiple asynchronous steps and the Python side is going\n",
              "// to poll for completion of each step.\n",
              "// This uses a Promise to block the python side on completion of each step,\n",
              "// then passes the result of the previous step as the input to the next step.\n",
              "function _uploadFilesContinue(outputId) {\n",
              "  const outputElement = document.getElementById(outputId);\n",
              "  const steps = outputElement.steps;\n",
              "\n",
              "  const next = steps.next(outputElement.lastPromiseValue);\n",
              "  return Promise.resolve(next.value.promise).then((value) => {\n",
              "    // Cache the last promise value to make it available to the next\n",
              "    // step of the generator.\n",
              "    outputElement.lastPromiseValue = value;\n",
              "    return next.value.response;\n",
              "  });\n",
              "}\n",
              "\n",
              "/**\n",
              " * Generator function which is called between each async step of the upload\n",
              " * process.\n",
              " * @param {string} inputId Element ID of the input file picker element.\n",
              " * @param {string} outputId Element ID of the output display.\n",
              " * @return {!Iterable<!Object>} Iterable of next steps.\n",
              " */\n",
              "function* uploadFilesStep(inputId, outputId) {\n",
              "  const inputElement = document.getElementById(inputId);\n",
              "  inputElement.disabled = false;\n",
              "\n",
              "  const outputElement = document.getElementById(outputId);\n",
              "  outputElement.innerHTML = '';\n",
              "\n",
              "  const pickedPromise = new Promise((resolve) => {\n",
              "    inputElement.addEventListener('change', (e) => {\n",
              "      resolve(e.target.files);\n",
              "    });\n",
              "  });\n",
              "\n",
              "  const cancel = document.createElement('button');\n",
              "  inputElement.parentElement.appendChild(cancel);\n",
              "  cancel.textContent = 'Cancel upload';\n",
              "  const cancelPromise = new Promise((resolve) => {\n",
              "    cancel.onclick = () => {\n",
              "      resolve(null);\n",
              "    };\n",
              "  });\n",
              "\n",
              "  // Wait for the user to pick the files.\n",
              "  const files = yield {\n",
              "    promise: Promise.race([pickedPromise, cancelPromise]),\n",
              "    response: {\n",
              "      action: 'starting',\n",
              "    }\n",
              "  };\n",
              "\n",
              "  cancel.remove();\n",
              "\n",
              "  // Disable the input element since further picks are not allowed.\n",
              "  inputElement.disabled = true;\n",
              "\n",
              "  if (!files) {\n",
              "    return {\n",
              "      response: {\n",
              "        action: 'complete',\n",
              "      }\n",
              "    };\n",
              "  }\n",
              "\n",
              "  for (const file of files) {\n",
              "    const li = document.createElement('li');\n",
              "    li.append(span(file.name, {fontWeight: 'bold'}));\n",
              "    li.append(span(\n",
              "        `(${file.type || 'n/a'}) - ${file.size} bytes, ` +\n",
              "        `last modified: ${\n",
              "            file.lastModifiedDate ? file.lastModifiedDate.toLocaleDateString() :\n",
              "                                    'n/a'} - `));\n",
              "    const percent = span('0% done');\n",
              "    li.appendChild(percent);\n",
              "\n",
              "    outputElement.appendChild(li);\n",
              "\n",
              "    const fileDataPromise = new Promise((resolve) => {\n",
              "      const reader = new FileReader();\n",
              "      reader.onload = (e) => {\n",
              "        resolve(e.target.result);\n",
              "      };\n",
              "      reader.readAsArrayBuffer(file);\n",
              "    });\n",
              "    // Wait for the data to be ready.\n",
              "    let fileData = yield {\n",
              "      promise: fileDataPromise,\n",
              "      response: {\n",
              "        action: 'continue',\n",
              "      }\n",
              "    };\n",
              "\n",
              "    // Use a chunked sending to avoid message size limits. See b/62115660.\n",
              "    let position = 0;\n",
              "    do {\n",
              "      const length = Math.min(fileData.byteLength - position, MAX_PAYLOAD_SIZE);\n",
              "      const chunk = new Uint8Array(fileData, position, length);\n",
              "      position += length;\n",
              "\n",
              "      const base64 = btoa(String.fromCharCode.apply(null, chunk));\n",
              "      yield {\n",
              "        response: {\n",
              "          action: 'append',\n",
              "          file: file.name,\n",
              "          data: base64,\n",
              "        },\n",
              "      };\n",
              "\n",
              "      let percentDone = fileData.byteLength === 0 ?\n",
              "          100 :\n",
              "          Math.round((position / fileData.byteLength) * 100);\n",
              "      percent.textContent = `${percentDone}% done`;\n",
              "\n",
              "    } while (position < fileData.byteLength);\n",
              "  }\n",
              "\n",
              "  // All done.\n",
              "  yield {\n",
              "    response: {\n",
              "      action: 'complete',\n",
              "    }\n",
              "  };\n",
              "}\n",
              "\n",
              "scope.google = scope.google || {};\n",
              "scope.google.colab = scope.google.colab || {};\n",
              "scope.google.colab._files = {\n",
              "  _uploadFiles,\n",
              "  _uploadFilesContinue,\n",
              "};\n",
              "})(self);\n",
              "</script> "
            ]
          },
          "metadata": {}
        },
        {
          "output_type": "stream",
          "name": "stdout",
          "text": [
            "Saving new_corona_NLP_train.csv to new_corona_NLP_train.csv\n"
          ]
        }
      ],
      "source": [
        "from google.colab import files\n",
        "upload=files.upload()"
      ]
    },
    {
      "cell_type": "markdown",
      "source": [
        "## Importing Libraries"
      ],
      "metadata": {
        "id": "5-bB1rOeT3zi"
      }
    },
    {
      "cell_type": "code",
      "source": [
        "# Pandas and numpy for data manipulation\n",
        "import pandas as pd\n",
        "import numpy as np\n",
        "from pandas import Series, DataFrame\n",
        "import string\n",
        "\n",
        "# OS services\n",
        "import os\n",
        "\n",
        "# Save file\n",
        "# from sb_utils import save_file\n",
        "\n",
        "#Natural language toolkit\n",
        "import nltk\n",
        "import nltk.corpus\n",
        "from nltk.stem import LancasterStemmer\n",
        "\n",
        "# No warnings about setting value on copy of slice\n",
        "pd.options.mode.chained_assignment = None\n",
        "pd.set_option('display.max_columns', 60)\n",
        "\n",
        "# Suppress future warnings\n",
        "import warnings\n",
        "warnings.simplefilter(action='ignore', category=FutureWarning)\n",
        "\n",
        "# Visualizations\n",
        "import matplotlib.pyplot as plt\n",
        "%matplotlib inline\n",
        "import plotly as plotly\n",
        "import plotly.express as px\n",
        "from plotly import __version__\n",
        "from plotly import tools\n",
        "import plotly.graph_objs as go\n",
        "import plotly.offline as py \n",
        "from plotly.offline import init_notebook_mode, plot \n",
        "init_notebook_mode(connected=True)\n",
        "\n",
        "# Set default font size\n",
        "plt.rcParams['font.size'] = 24\n",
        "from IPython.core.pylabtools import figsize\n",
        "\n",
        "# Seaborn for visualization\n",
        "import seaborn as sns\n",
        "sns.set(font_scale = 2)\n",
        "\n",
        "# Imputing missing values and scaling values\n",
        "# from sklearn.preprocessing import Imputer, MinMaxScaler\n",
        "from sklearn.preprocessing import MinMaxScaler\n",
        "from sklearn.impute import SimpleImputer \n",
        "from sklearn.feature_extraction.text import CountVectorizer\n",
        "# imputer = SimpleImputer(missing_values=np.nan, strategy='mean')\n",
        "\n",
        "# Train, test, split\n",
        "from sklearn.model_selection import train_test_split\n",
        "\n",
        "\n",
        "# Machine Learning Models\n",
        "from sklearn.linear_model import LinearRegression, LogisticRegression\n",
        "from sklearn.ensemble import RandomForestRegressor, GradientBoostingRegressor\n",
        "from sklearn.svm import SVR, SVC, LinearSVC\n",
        "from sklearn.linear_model import SGDClassifier\n",
        "#from sklearn.neighbors import KNeighborsRegressor\n",
        "#from sklearn.linear_model import BayesianRidge\n",
        "from sklearn.linear_model import Ridge\n",
        "from sklearn import linear_model\n",
        "from sklearn.preprocessing import LabelEncoder\n",
        "from sklearn.tree import DecisionTreeRegressor\n",
        "from sklearn.tree import export_graphviz\n",
        "import xgboost as xgb\n",
        "#from sklearn.feature_extraction.text import TfidfTransformer\n",
        "from sklearn.feature_extraction.text import TfidfVectorizer\n",
        "from sklearn.naive_bayes import MultinomialNB\n",
        "from sklearn.ensemble import RandomForestClassifier\n",
        "#from sklearn.svm import LinearSVC\n",
        "\n",
        "\n",
        "# Evaluation of model\n",
        "from sklearn.metrics import mean_squared_error\n",
        "from sklearn.metrics import mean_absolute_error\n",
        "from sklearn.metrics import accuracy_score\n",
        "from sklearn import metrics\n",
        "from sklearn.metrics import r2_score\n",
        "from sklearn.model_selection import cross_val_score\n",
        "from sklearn.metrics import confusion_matrix\n",
        "from sklearn.metrics import f1_score\n",
        "from sklearn.metrics import classification_report\n",
        "\n",
        "\n",
        "# Hyperparameter tuning\n",
        "from sklearn.model_selection import RandomizedSearchCV, GridSearchCV\n",
        "\n",
        "#Statistical function\n",
        "from scipy.stats import norm\n",
        "from tabulate import tabulate\n",
        "\n",
        "# Miscellaneous\n",
        "from subprocess import check_call\n",
        "from PIL import Image, ImageDraw, ImageFont\n",
        "from IPython.display import Image as PImage"
      ],
      "metadata": {
        "colab": {
          "base_uri": "https://localhost:8080/",
          "height": 17
        },
        "id": "RYPRSVzhZ74G",
        "outputId": "e6f69ccf-5534-4d8d-fbbd-d252ad0ab2b7"
      },
      "execution_count": 3,
      "outputs": [
        {
          "output_type": "display_data",
          "data": {
            "text/html": [
              "        <script type=\"text/javascript\">\n",
              "        window.PlotlyConfig = {MathJaxConfig: 'local'};\n",
              "        if (window.MathJax) {MathJax.Hub.Config({SVG: {font: \"STIX-Web\"}});}\n",
              "        if (typeof require !== 'undefined') {\n",
              "        require.undef(\"plotly\");\n",
              "        requirejs.config({\n",
              "            paths: {\n",
              "                'plotly': ['https://cdn.plot.ly/plotly-2.8.3.min']\n",
              "            }\n",
              "        });\n",
              "        require(['plotly'], function(Plotly) {\n",
              "            window._Plotly = Plotly;\n",
              "        });\n",
              "        }\n",
              "        </script>\n",
              "        "
            ]
          },
          "metadata": {}
        }
      ]
    },
    {
      "cell_type": "markdown",
      "source": [
        "## Data Info"
      ],
      "metadata": {
        "id": "YLPk_ivwT-Hy"
      }
    },
    {
      "cell_type": "code",
      "source": [
        "data_twitter_corona_train = pd.read_csv('/content/new_corona_NLP_train.csv', encoding= 'latin-1')\n",
        "#data_twitter_corona_test = pd.read_csv('/content/Corona_NLP_test.csv', encoding= 'latin-1')"
      ],
      "metadata": {
        "id": "uDNtP5BZaLfe"
      },
      "execution_count": 68,
      "outputs": []
    },
    {
      "cell_type": "code",
      "source": [
        "original_data_train = pd.read_csv('/content/new_corona_NLP_train.csv', encoding= 'latin-1')"
      ],
      "metadata": {
        "id": "1iHS939cajIF"
      },
      "execution_count": 69,
      "outputs": []
    },
    {
      "cell_type": "code",
      "source": [
        "data_twitter_corona_train.head()"
      ],
      "metadata": {
        "colab": {
          "base_uri": "https://localhost:8080/",
          "height": 206
        },
        "id": "ao1j7W_dbn2b",
        "outputId": "621904b8-2a19-450b-b111-42edd3122c0e"
      },
      "execution_count": 70,
      "outputs": [
        {
          "output_type": "execute_result",
          "data": {
            "text/plain": [
              "   UserName  ScreenName   Location     TweetAt  \\\n",
              "0      3799       48751     London  16-03-2020   \n",
              "1      3800       48752         UK  16-03-2020   \n",
              "2      3801       48753  Vagabonds  16-03-2020   \n",
              "3      3802       48754        NaN  16-03-2020   \n",
              "4      3803       48755        NaN  16-03-2020   \n",
              "\n",
              "                                       OriginalTweet  Sentiment  \\\n",
              "0                                                NaN          1   \n",
              "1  advice Talk neighbours family exchange phone n...          2   \n",
              "2  Coronavirus Australia: Woolworths give elderly...          2   \n",
              "3  My food stock one empty... PLEASE, panic, THER...          2   \n",
              "4  Me, ready go supermarket outbreak. Not I'm par...          0   \n",
              "\n",
              "                                                text  \n",
              "0  @MeNyrbie @Phil_Gahan @Chrisitv https://t.co/i...  \n",
              "1  advice Talk to your neighbours family to excha...  \n",
              "2  Coronavirus Australia: Woolworths to give elde...  \n",
              "3  My food stock is not the only one which is emp...  \n",
              "4  Me, ready to go at supermarket during the #COV...  "
            ],
            "text/html": [
              "\n",
              "  <div id=\"df-e3b55bc4-aaa8-4f50-9344-855bc44f7aee\">\n",
              "    <div class=\"colab-df-container\">\n",
              "      <div>\n",
              "<style scoped>\n",
              "    .dataframe tbody tr th:only-of-type {\n",
              "        vertical-align: middle;\n",
              "    }\n",
              "\n",
              "    .dataframe tbody tr th {\n",
              "        vertical-align: top;\n",
              "    }\n",
              "\n",
              "    .dataframe thead th {\n",
              "        text-align: right;\n",
              "    }\n",
              "</style>\n",
              "<table border=\"1\" class=\"dataframe\">\n",
              "  <thead>\n",
              "    <tr style=\"text-align: right;\">\n",
              "      <th></th>\n",
              "      <th>UserName</th>\n",
              "      <th>ScreenName</th>\n",
              "      <th>Location</th>\n",
              "      <th>TweetAt</th>\n",
              "      <th>OriginalTweet</th>\n",
              "      <th>Sentiment</th>\n",
              "      <th>text</th>\n",
              "    </tr>\n",
              "  </thead>\n",
              "  <tbody>\n",
              "    <tr>\n",
              "      <th>0</th>\n",
              "      <td>3799</td>\n",
              "      <td>48751</td>\n",
              "      <td>London</td>\n",
              "      <td>16-03-2020</td>\n",
              "      <td>NaN</td>\n",
              "      <td>1</td>\n",
              "      <td>@MeNyrbie @Phil_Gahan @Chrisitv https://t.co/i...</td>\n",
              "    </tr>\n",
              "    <tr>\n",
              "      <th>1</th>\n",
              "      <td>3800</td>\n",
              "      <td>48752</td>\n",
              "      <td>UK</td>\n",
              "      <td>16-03-2020</td>\n",
              "      <td>advice Talk neighbours family exchange phone n...</td>\n",
              "      <td>2</td>\n",
              "      <td>advice Talk to your neighbours family to excha...</td>\n",
              "    </tr>\n",
              "    <tr>\n",
              "      <th>2</th>\n",
              "      <td>3801</td>\n",
              "      <td>48753</td>\n",
              "      <td>Vagabonds</td>\n",
              "      <td>16-03-2020</td>\n",
              "      <td>Coronavirus Australia: Woolworths give elderly...</td>\n",
              "      <td>2</td>\n",
              "      <td>Coronavirus Australia: Woolworths to give elde...</td>\n",
              "    </tr>\n",
              "    <tr>\n",
              "      <th>3</th>\n",
              "      <td>3802</td>\n",
              "      <td>48754</td>\n",
              "      <td>NaN</td>\n",
              "      <td>16-03-2020</td>\n",
              "      <td>My food stock one empty... PLEASE, panic, THER...</td>\n",
              "      <td>2</td>\n",
              "      <td>My food stock is not the only one which is emp...</td>\n",
              "    </tr>\n",
              "    <tr>\n",
              "      <th>4</th>\n",
              "      <td>3803</td>\n",
              "      <td>48755</td>\n",
              "      <td>NaN</td>\n",
              "      <td>16-03-2020</td>\n",
              "      <td>Me, ready go supermarket outbreak. Not I'm par...</td>\n",
              "      <td>0</td>\n",
              "      <td>Me, ready to go at supermarket during the #COV...</td>\n",
              "    </tr>\n",
              "  </tbody>\n",
              "</table>\n",
              "</div>\n",
              "      <button class=\"colab-df-convert\" onclick=\"convertToInteractive('df-e3b55bc4-aaa8-4f50-9344-855bc44f7aee')\"\n",
              "              title=\"Convert this dataframe to an interactive table.\"\n",
              "              style=\"display:none;\">\n",
              "        \n",
              "  <svg xmlns=\"http://www.w3.org/2000/svg\" height=\"24px\"viewBox=\"0 0 24 24\"\n",
              "       width=\"24px\">\n",
              "    <path d=\"M0 0h24v24H0V0z\" fill=\"none\"/>\n",
              "    <path d=\"M18.56 5.44l.94 2.06.94-2.06 2.06-.94-2.06-.94-.94-2.06-.94 2.06-2.06.94zm-11 1L8.5 8.5l.94-2.06 2.06-.94-2.06-.94L8.5 2.5l-.94 2.06-2.06.94zm10 10l.94 2.06.94-2.06 2.06-.94-2.06-.94-.94-2.06-.94 2.06-2.06.94z\"/><path d=\"M17.41 7.96l-1.37-1.37c-.4-.4-.92-.59-1.43-.59-.52 0-1.04.2-1.43.59L10.3 9.45l-7.72 7.72c-.78.78-.78 2.05 0 2.83L4 21.41c.39.39.9.59 1.41.59.51 0 1.02-.2 1.41-.59l7.78-7.78 2.81-2.81c.8-.78.8-2.07 0-2.86zM5.41 20L4 18.59l7.72-7.72 1.47 1.35L5.41 20z\"/>\n",
              "  </svg>\n",
              "      </button>\n",
              "      \n",
              "  <style>\n",
              "    .colab-df-container {\n",
              "      display:flex;\n",
              "      flex-wrap:wrap;\n",
              "      gap: 12px;\n",
              "    }\n",
              "\n",
              "    .colab-df-convert {\n",
              "      background-color: #E8F0FE;\n",
              "      border: none;\n",
              "      border-radius: 50%;\n",
              "      cursor: pointer;\n",
              "      display: none;\n",
              "      fill: #1967D2;\n",
              "      height: 32px;\n",
              "      padding: 0 0 0 0;\n",
              "      width: 32px;\n",
              "    }\n",
              "\n",
              "    .colab-df-convert:hover {\n",
              "      background-color: #E2EBFA;\n",
              "      box-shadow: 0px 1px 2px rgba(60, 64, 67, 0.3), 0px 1px 3px 1px rgba(60, 64, 67, 0.15);\n",
              "      fill: #174EA6;\n",
              "    }\n",
              "\n",
              "    [theme=dark] .colab-df-convert {\n",
              "      background-color: #3B4455;\n",
              "      fill: #D2E3FC;\n",
              "    }\n",
              "\n",
              "    [theme=dark] .colab-df-convert:hover {\n",
              "      background-color: #434B5C;\n",
              "      box-shadow: 0px 1px 3px 1px rgba(0, 0, 0, 0.15);\n",
              "      filter: drop-shadow(0px 1px 2px rgba(0, 0, 0, 0.3));\n",
              "      fill: #FFFFFF;\n",
              "    }\n",
              "  </style>\n",
              "\n",
              "      <script>\n",
              "        const buttonEl =\n",
              "          document.querySelector('#df-e3b55bc4-aaa8-4f50-9344-855bc44f7aee button.colab-df-convert');\n",
              "        buttonEl.style.display =\n",
              "          google.colab.kernel.accessAllowed ? 'block' : 'none';\n",
              "\n",
              "        async function convertToInteractive(key) {\n",
              "          const element = document.querySelector('#df-e3b55bc4-aaa8-4f50-9344-855bc44f7aee');\n",
              "          const dataTable =\n",
              "            await google.colab.kernel.invokeFunction('convertToInteractive',\n",
              "                                                     [key], {});\n",
              "          if (!dataTable) return;\n",
              "\n",
              "          const docLinkHtml = 'Like what you see? Visit the ' +\n",
              "            '<a target=\"_blank\" href=https://colab.research.google.com/notebooks/data_table.ipynb>data table notebook</a>'\n",
              "            + ' to learn more about interactive tables.';\n",
              "          element.innerHTML = '';\n",
              "          dataTable['output_type'] = 'display_data';\n",
              "          await google.colab.output.renderOutput(dataTable, element);\n",
              "          const docLink = document.createElement('div');\n",
              "          docLink.innerHTML = docLinkHtml;\n",
              "          element.appendChild(docLink);\n",
              "        }\n",
              "      </script>\n",
              "    </div>\n",
              "  </div>\n",
              "  "
            ]
          },
          "metadata": {},
          "execution_count": 70
        }
      ]
    },
    {
      "cell_type": "code",
      "source": [
        "original_data_train.head()"
      ],
      "metadata": {
        "colab": {
          "base_uri": "https://localhost:8080/",
          "height": 206
        },
        "id": "Sbp1mKh_hmvK",
        "outputId": "e12d5470-71fc-4dd0-f67a-9bf2db1bff76"
      },
      "execution_count": 71,
      "outputs": [
        {
          "output_type": "execute_result",
          "data": {
            "text/plain": [
              "   UserName  ScreenName   Location     TweetAt  \\\n",
              "0      3799       48751     London  16-03-2020   \n",
              "1      3800       48752         UK  16-03-2020   \n",
              "2      3801       48753  Vagabonds  16-03-2020   \n",
              "3      3802       48754        NaN  16-03-2020   \n",
              "4      3803       48755        NaN  16-03-2020   \n",
              "\n",
              "                                       OriginalTweet  Sentiment  \\\n",
              "0                                                NaN          1   \n",
              "1  advice Talk neighbours family exchange phone n...          2   \n",
              "2  Coronavirus Australia: Woolworths give elderly...          2   \n",
              "3  My food stock one empty... PLEASE, panic, THER...          2   \n",
              "4  Me, ready go supermarket outbreak. Not I'm par...          0   \n",
              "\n",
              "                                                text  \n",
              "0  @MeNyrbie @Phil_Gahan @Chrisitv https://t.co/i...  \n",
              "1  advice Talk to your neighbours family to excha...  \n",
              "2  Coronavirus Australia: Woolworths to give elde...  \n",
              "3  My food stock is not the only one which is emp...  \n",
              "4  Me, ready to go at supermarket during the #COV...  "
            ],
            "text/html": [
              "\n",
              "  <div id=\"df-a75afc2d-a2f3-4a79-833f-ae118efc7130\">\n",
              "    <div class=\"colab-df-container\">\n",
              "      <div>\n",
              "<style scoped>\n",
              "    .dataframe tbody tr th:only-of-type {\n",
              "        vertical-align: middle;\n",
              "    }\n",
              "\n",
              "    .dataframe tbody tr th {\n",
              "        vertical-align: top;\n",
              "    }\n",
              "\n",
              "    .dataframe thead th {\n",
              "        text-align: right;\n",
              "    }\n",
              "</style>\n",
              "<table border=\"1\" class=\"dataframe\">\n",
              "  <thead>\n",
              "    <tr style=\"text-align: right;\">\n",
              "      <th></th>\n",
              "      <th>UserName</th>\n",
              "      <th>ScreenName</th>\n",
              "      <th>Location</th>\n",
              "      <th>TweetAt</th>\n",
              "      <th>OriginalTweet</th>\n",
              "      <th>Sentiment</th>\n",
              "      <th>text</th>\n",
              "    </tr>\n",
              "  </thead>\n",
              "  <tbody>\n",
              "    <tr>\n",
              "      <th>0</th>\n",
              "      <td>3799</td>\n",
              "      <td>48751</td>\n",
              "      <td>London</td>\n",
              "      <td>16-03-2020</td>\n",
              "      <td>NaN</td>\n",
              "      <td>1</td>\n",
              "      <td>@MeNyrbie @Phil_Gahan @Chrisitv https://t.co/i...</td>\n",
              "    </tr>\n",
              "    <tr>\n",
              "      <th>1</th>\n",
              "      <td>3800</td>\n",
              "      <td>48752</td>\n",
              "      <td>UK</td>\n",
              "      <td>16-03-2020</td>\n",
              "      <td>advice Talk neighbours family exchange phone n...</td>\n",
              "      <td>2</td>\n",
              "      <td>advice Talk to your neighbours family to excha...</td>\n",
              "    </tr>\n",
              "    <tr>\n",
              "      <th>2</th>\n",
              "      <td>3801</td>\n",
              "      <td>48753</td>\n",
              "      <td>Vagabonds</td>\n",
              "      <td>16-03-2020</td>\n",
              "      <td>Coronavirus Australia: Woolworths give elderly...</td>\n",
              "      <td>2</td>\n",
              "      <td>Coronavirus Australia: Woolworths to give elde...</td>\n",
              "    </tr>\n",
              "    <tr>\n",
              "      <th>3</th>\n",
              "      <td>3802</td>\n",
              "      <td>48754</td>\n",
              "      <td>NaN</td>\n",
              "      <td>16-03-2020</td>\n",
              "      <td>My food stock one empty... PLEASE, panic, THER...</td>\n",
              "      <td>2</td>\n",
              "      <td>My food stock is not the only one which is emp...</td>\n",
              "    </tr>\n",
              "    <tr>\n",
              "      <th>4</th>\n",
              "      <td>3803</td>\n",
              "      <td>48755</td>\n",
              "      <td>NaN</td>\n",
              "      <td>16-03-2020</td>\n",
              "      <td>Me, ready go supermarket outbreak. Not I'm par...</td>\n",
              "      <td>0</td>\n",
              "      <td>Me, ready to go at supermarket during the #COV...</td>\n",
              "    </tr>\n",
              "  </tbody>\n",
              "</table>\n",
              "</div>\n",
              "      <button class=\"colab-df-convert\" onclick=\"convertToInteractive('df-a75afc2d-a2f3-4a79-833f-ae118efc7130')\"\n",
              "              title=\"Convert this dataframe to an interactive table.\"\n",
              "              style=\"display:none;\">\n",
              "        \n",
              "  <svg xmlns=\"http://www.w3.org/2000/svg\" height=\"24px\"viewBox=\"0 0 24 24\"\n",
              "       width=\"24px\">\n",
              "    <path d=\"M0 0h24v24H0V0z\" fill=\"none\"/>\n",
              "    <path d=\"M18.56 5.44l.94 2.06.94-2.06 2.06-.94-2.06-.94-.94-2.06-.94 2.06-2.06.94zm-11 1L8.5 8.5l.94-2.06 2.06-.94-2.06-.94L8.5 2.5l-.94 2.06-2.06.94zm10 10l.94 2.06.94-2.06 2.06-.94-2.06-.94-.94-2.06-.94 2.06-2.06.94z\"/><path d=\"M17.41 7.96l-1.37-1.37c-.4-.4-.92-.59-1.43-.59-.52 0-1.04.2-1.43.59L10.3 9.45l-7.72 7.72c-.78.78-.78 2.05 0 2.83L4 21.41c.39.39.9.59 1.41.59.51 0 1.02-.2 1.41-.59l7.78-7.78 2.81-2.81c.8-.78.8-2.07 0-2.86zM5.41 20L4 18.59l7.72-7.72 1.47 1.35L5.41 20z\"/>\n",
              "  </svg>\n",
              "      </button>\n",
              "      \n",
              "  <style>\n",
              "    .colab-df-container {\n",
              "      display:flex;\n",
              "      flex-wrap:wrap;\n",
              "      gap: 12px;\n",
              "    }\n",
              "\n",
              "    .colab-df-convert {\n",
              "      background-color: #E8F0FE;\n",
              "      border: none;\n",
              "      border-radius: 50%;\n",
              "      cursor: pointer;\n",
              "      display: none;\n",
              "      fill: #1967D2;\n",
              "      height: 32px;\n",
              "      padding: 0 0 0 0;\n",
              "      width: 32px;\n",
              "    }\n",
              "\n",
              "    .colab-df-convert:hover {\n",
              "      background-color: #E2EBFA;\n",
              "      box-shadow: 0px 1px 2px rgba(60, 64, 67, 0.3), 0px 1px 3px 1px rgba(60, 64, 67, 0.15);\n",
              "      fill: #174EA6;\n",
              "    }\n",
              "\n",
              "    [theme=dark] .colab-df-convert {\n",
              "      background-color: #3B4455;\n",
              "      fill: #D2E3FC;\n",
              "    }\n",
              "\n",
              "    [theme=dark] .colab-df-convert:hover {\n",
              "      background-color: #434B5C;\n",
              "      box-shadow: 0px 1px 3px 1px rgba(0, 0, 0, 0.15);\n",
              "      filter: drop-shadow(0px 1px 2px rgba(0, 0, 0, 0.3));\n",
              "      fill: #FFFFFF;\n",
              "    }\n",
              "  </style>\n",
              "\n",
              "      <script>\n",
              "        const buttonEl =\n",
              "          document.querySelector('#df-a75afc2d-a2f3-4a79-833f-ae118efc7130 button.colab-df-convert');\n",
              "        buttonEl.style.display =\n",
              "          google.colab.kernel.accessAllowed ? 'block' : 'none';\n",
              "\n",
              "        async function convertToInteractive(key) {\n",
              "          const element = document.querySelector('#df-a75afc2d-a2f3-4a79-833f-ae118efc7130');\n",
              "          const dataTable =\n",
              "            await google.colab.kernel.invokeFunction('convertToInteractive',\n",
              "                                                     [key], {});\n",
              "          if (!dataTable) return;\n",
              "\n",
              "          const docLinkHtml = 'Like what you see? Visit the ' +\n",
              "            '<a target=\"_blank\" href=https://colab.research.google.com/notebooks/data_table.ipynb>data table notebook</a>'\n",
              "            + ' to learn more about interactive tables.';\n",
              "          element.innerHTML = '';\n",
              "          dataTable['output_type'] = 'display_data';\n",
              "          await google.colab.output.renderOutput(dataTable, element);\n",
              "          const docLink = document.createElement('div');\n",
              "          docLink.innerHTML = docLinkHtml;\n",
              "          element.appendChild(docLink);\n",
              "        }\n",
              "      </script>\n",
              "    </div>\n",
              "  </div>\n",
              "  "
            ]
          },
          "metadata": {},
          "execution_count": 71
        }
      ]
    },
    {
      "cell_type": "code",
      "source": [
        "data_twitter_corona_train.shape"
      ],
      "metadata": {
        "id": "itLYxzuabFnE",
        "colab": {
          "base_uri": "https://localhost:8080/"
        },
        "outputId": "6e04aff3-5c6c-46ad-aaa3-e364ab6bb27d"
      },
      "execution_count": 72,
      "outputs": [
        {
          "output_type": "execute_result",
          "data": {
            "text/plain": [
              "(41157, 7)"
            ]
          },
          "metadata": {},
          "execution_count": 72
        }
      ]
    },
    {
      "cell_type": "code",
      "source": [
        "original_data_train.shape"
      ],
      "metadata": {
        "colab": {
          "base_uri": "https://localhost:8080/"
        },
        "id": "Gsfb5mW2h8pQ",
        "outputId": "6be8a938-107d-4cc0-fa93-6dfd50a2445f"
      },
      "execution_count": 73,
      "outputs": [
        {
          "output_type": "execute_result",
          "data": {
            "text/plain": [
              "(41157, 7)"
            ]
          },
          "metadata": {},
          "execution_count": 73
        }
      ]
    },
    {
      "cell_type": "code",
      "source": [
        "import re\n",
        "from nltk.stem.porter import PorterStemmer\n",
        "nltk.download('stopwords')\n",
        "from nltk.corpus import stopwords"
      ],
      "metadata": {
        "colab": {
          "base_uri": "https://localhost:8080/"
        },
        "id": "2He6yz2tuqHm",
        "outputId": "655efe24-2f84-4ba4-d9c0-1e0498081303"
      },
      "execution_count": 74,
      "outputs": [
        {
          "output_type": "stream",
          "name": "stderr",
          "text": [
            "[nltk_data] Downloading package stopwords to /root/nltk_data...\n",
            "[nltk_data]   Package stopwords is already up-to-date!\n"
          ]
        }
      ]
    },
    {
      "cell_type": "markdown",
      "source": [
        "## Tokenization\n",
        "Tokenization is the first step in NLP. It is the process of breaking strings into tokens, which in turn are small structures or units"
      ],
      "metadata": {
        "id": "wbz70kiiTSw5"
      }
    },
    {
      "cell_type": "code",
      "source": [
        "# Tokenizing the words present in the training set\n",
        "tokenized_tweet = data_twitter_corona_train['text'].apply(lambda x: x.split()) "
      ],
      "metadata": {
        "id": "E6JwSvElTbpP"
      },
      "execution_count": 75,
      "outputs": []
    },
    {
      "cell_type": "markdown",
      "source": [
        "## Data Cleaning and Formatting (once again)\n",
        "Let's do the data cleaning once again to make sure all the data is in the same format such as making all text lower, removing text in square brackets, and removing links, punctuation, and words containing numbers."
      ],
      "metadata": {
        "id": "gRUoVNyBTp-M"
      }
    },
    {
      "cell_type": "code",
      "source": [
        "def clean_text(text):\n",
        "    '''Make text lowercase, remove text in square brackets,remove links,remove punctuation\n",
        "    and remove words containing numbers.'''\n",
        "    text = text.lower()\n",
        "    text = re.sub('\\[.*?\\]', '', text)\n",
        "    text = re.sub('https?://\\S+|www\\.\\S+', '', text)\n",
        "    text = re.sub('<.*?>+', '', text)\n",
        "    text = re.sub('[%s]' % re.escape(string.punctuation), '', text)\n",
        "    text = re.sub('\\n', '', text)\n",
        "    text = re.sub('\\w*\\d\\w*', '', text)\n",
        "    return text\n",
        "\n",
        "# Applying the cleaning function to both test and training datasets\n",
        "data_twitter_corona_train['text'] = data_twitter_corona_train['text'].apply(lambda x: clean_text(x))\n",
        "\n",
        "# test['text'] = test['text'].apply(lambda x: clean_text(x))\n",
        "\n",
        "# Let's take a look at the updated text\n",
        "data_twitter_corona_train['text'].head()"
      ],
      "metadata": {
        "colab": {
          "base_uri": "https://localhost:8080/"
        },
        "id": "kKxPvKugl4qe",
        "outputId": "a37d2de8-6222-46aa-d52c-3a4d0aac916f"
      },
      "execution_count": 76,
      "outputs": [
        {
          "output_type": "execute_result",
          "data": {
            "text/plain": [
              "0               menyrbie philgahan chrisitv  and  and \n",
              "1    advice talk to your neighbours family to excha...\n",
              "2    coronavirus australia woolworths to give elder...\n",
              "3    my food stock is not the only one which is emp...\n",
              "4    me ready to go at supermarket during the  outb...\n",
              "Name: text, dtype: object"
            ]
          },
          "metadata": {},
          "execution_count": 76
        }
      ]
    },
    {
      "cell_type": "code",
      "source": [
        "data_twitter_corona_train.head()"
      ],
      "metadata": {
        "colab": {
          "base_uri": "https://localhost:8080/",
          "height": 206
        },
        "id": "RVrNMv_ZBaPL",
        "outputId": "37787d44-00e3-490c-c8a5-c8e52cf22c91"
      },
      "execution_count": 77,
      "outputs": [
        {
          "output_type": "execute_result",
          "data": {
            "text/plain": [
              "   UserName  ScreenName   Location     TweetAt  \\\n",
              "0      3799       48751     London  16-03-2020   \n",
              "1      3800       48752         UK  16-03-2020   \n",
              "2      3801       48753  Vagabonds  16-03-2020   \n",
              "3      3802       48754        NaN  16-03-2020   \n",
              "4      3803       48755        NaN  16-03-2020   \n",
              "\n",
              "                                       OriginalTweet  Sentiment  \\\n",
              "0                                                NaN          1   \n",
              "1  advice Talk neighbours family exchange phone n...          2   \n",
              "2  Coronavirus Australia: Woolworths give elderly...          2   \n",
              "3  My food stock one empty... PLEASE, panic, THER...          2   \n",
              "4  Me, ready go supermarket outbreak. Not I'm par...          0   \n",
              "\n",
              "                                                text  \n",
              "0             menyrbie philgahan chrisitv  and  and   \n",
              "1  advice talk to your neighbours family to excha...  \n",
              "2  coronavirus australia woolworths to give elder...  \n",
              "3  my food stock is not the only one which is emp...  \n",
              "4  me ready to go at supermarket during the  outb...  "
            ],
            "text/html": [
              "\n",
              "  <div id=\"df-4813b3f8-babc-4581-88c0-bce7a9348a56\">\n",
              "    <div class=\"colab-df-container\">\n",
              "      <div>\n",
              "<style scoped>\n",
              "    .dataframe tbody tr th:only-of-type {\n",
              "        vertical-align: middle;\n",
              "    }\n",
              "\n",
              "    .dataframe tbody tr th {\n",
              "        vertical-align: top;\n",
              "    }\n",
              "\n",
              "    .dataframe thead th {\n",
              "        text-align: right;\n",
              "    }\n",
              "</style>\n",
              "<table border=\"1\" class=\"dataframe\">\n",
              "  <thead>\n",
              "    <tr style=\"text-align: right;\">\n",
              "      <th></th>\n",
              "      <th>UserName</th>\n",
              "      <th>ScreenName</th>\n",
              "      <th>Location</th>\n",
              "      <th>TweetAt</th>\n",
              "      <th>OriginalTweet</th>\n",
              "      <th>Sentiment</th>\n",
              "      <th>text</th>\n",
              "    </tr>\n",
              "  </thead>\n",
              "  <tbody>\n",
              "    <tr>\n",
              "      <th>0</th>\n",
              "      <td>3799</td>\n",
              "      <td>48751</td>\n",
              "      <td>London</td>\n",
              "      <td>16-03-2020</td>\n",
              "      <td>NaN</td>\n",
              "      <td>1</td>\n",
              "      <td>menyrbie philgahan chrisitv  and  and</td>\n",
              "    </tr>\n",
              "    <tr>\n",
              "      <th>1</th>\n",
              "      <td>3800</td>\n",
              "      <td>48752</td>\n",
              "      <td>UK</td>\n",
              "      <td>16-03-2020</td>\n",
              "      <td>advice Talk neighbours family exchange phone n...</td>\n",
              "      <td>2</td>\n",
              "      <td>advice talk to your neighbours family to excha...</td>\n",
              "    </tr>\n",
              "    <tr>\n",
              "      <th>2</th>\n",
              "      <td>3801</td>\n",
              "      <td>48753</td>\n",
              "      <td>Vagabonds</td>\n",
              "      <td>16-03-2020</td>\n",
              "      <td>Coronavirus Australia: Woolworths give elderly...</td>\n",
              "      <td>2</td>\n",
              "      <td>coronavirus australia woolworths to give elder...</td>\n",
              "    </tr>\n",
              "    <tr>\n",
              "      <th>3</th>\n",
              "      <td>3802</td>\n",
              "      <td>48754</td>\n",
              "      <td>NaN</td>\n",
              "      <td>16-03-2020</td>\n",
              "      <td>My food stock one empty... PLEASE, panic, THER...</td>\n",
              "      <td>2</td>\n",
              "      <td>my food stock is not the only one which is emp...</td>\n",
              "    </tr>\n",
              "    <tr>\n",
              "      <th>4</th>\n",
              "      <td>3803</td>\n",
              "      <td>48755</td>\n",
              "      <td>NaN</td>\n",
              "      <td>16-03-2020</td>\n",
              "      <td>Me, ready go supermarket outbreak. Not I'm par...</td>\n",
              "      <td>0</td>\n",
              "      <td>me ready to go at supermarket during the  outb...</td>\n",
              "    </tr>\n",
              "  </tbody>\n",
              "</table>\n",
              "</div>\n",
              "      <button class=\"colab-df-convert\" onclick=\"convertToInteractive('df-4813b3f8-babc-4581-88c0-bce7a9348a56')\"\n",
              "              title=\"Convert this dataframe to an interactive table.\"\n",
              "              style=\"display:none;\">\n",
              "        \n",
              "  <svg xmlns=\"http://www.w3.org/2000/svg\" height=\"24px\"viewBox=\"0 0 24 24\"\n",
              "       width=\"24px\">\n",
              "    <path d=\"M0 0h24v24H0V0z\" fill=\"none\"/>\n",
              "    <path d=\"M18.56 5.44l.94 2.06.94-2.06 2.06-.94-2.06-.94-.94-2.06-.94 2.06-2.06.94zm-11 1L8.5 8.5l.94-2.06 2.06-.94-2.06-.94L8.5 2.5l-.94 2.06-2.06.94zm10 10l.94 2.06.94-2.06 2.06-.94-2.06-.94-.94-2.06-.94 2.06-2.06.94z\"/><path d=\"M17.41 7.96l-1.37-1.37c-.4-.4-.92-.59-1.43-.59-.52 0-1.04.2-1.43.59L10.3 9.45l-7.72 7.72c-.78.78-.78 2.05 0 2.83L4 21.41c.39.39.9.59 1.41.59.51 0 1.02-.2 1.41-.59l7.78-7.78 2.81-2.81c.8-.78.8-2.07 0-2.86zM5.41 20L4 18.59l7.72-7.72 1.47 1.35L5.41 20z\"/>\n",
              "  </svg>\n",
              "      </button>\n",
              "      \n",
              "  <style>\n",
              "    .colab-df-container {\n",
              "      display:flex;\n",
              "      flex-wrap:wrap;\n",
              "      gap: 12px;\n",
              "    }\n",
              "\n",
              "    .colab-df-convert {\n",
              "      background-color: #E8F0FE;\n",
              "      border: none;\n",
              "      border-radius: 50%;\n",
              "      cursor: pointer;\n",
              "      display: none;\n",
              "      fill: #1967D2;\n",
              "      height: 32px;\n",
              "      padding: 0 0 0 0;\n",
              "      width: 32px;\n",
              "    }\n",
              "\n",
              "    .colab-df-convert:hover {\n",
              "      background-color: #E2EBFA;\n",
              "      box-shadow: 0px 1px 2px rgba(60, 64, 67, 0.3), 0px 1px 3px 1px rgba(60, 64, 67, 0.15);\n",
              "      fill: #174EA6;\n",
              "    }\n",
              "\n",
              "    [theme=dark] .colab-df-convert {\n",
              "      background-color: #3B4455;\n",
              "      fill: #D2E3FC;\n",
              "    }\n",
              "\n",
              "    [theme=dark] .colab-df-convert:hover {\n",
              "      background-color: #434B5C;\n",
              "      box-shadow: 0px 1px 3px 1px rgba(0, 0, 0, 0.15);\n",
              "      filter: drop-shadow(0px 1px 2px rgba(0, 0, 0, 0.3));\n",
              "      fill: #FFFFFF;\n",
              "    }\n",
              "  </style>\n",
              "\n",
              "      <script>\n",
              "        const buttonEl =\n",
              "          document.querySelector('#df-4813b3f8-babc-4581-88c0-bce7a9348a56 button.colab-df-convert');\n",
              "        buttonEl.style.display =\n",
              "          google.colab.kernel.accessAllowed ? 'block' : 'none';\n",
              "\n",
              "        async function convertToInteractive(key) {\n",
              "          const element = document.querySelector('#df-4813b3f8-babc-4581-88c0-bce7a9348a56');\n",
              "          const dataTable =\n",
              "            await google.colab.kernel.invokeFunction('convertToInteractive',\n",
              "                                                     [key], {});\n",
              "          if (!dataTable) return;\n",
              "\n",
              "          const docLinkHtml = 'Like what you see? Visit the ' +\n",
              "            '<a target=\"_blank\" href=https://colab.research.google.com/notebooks/data_table.ipynb>data table notebook</a>'\n",
              "            + ' to learn more about interactive tables.';\n",
              "          element.innerHTML = '';\n",
              "          dataTable['output_type'] = 'display_data';\n",
              "          await google.colab.output.renderOutput(dataTable, element);\n",
              "          const docLink = document.createElement('div');\n",
              "          docLink.innerHTML = docLinkHtml;\n",
              "          element.appendChild(docLink);\n",
              "        }\n",
              "      </script>\n",
              "    </div>\n",
              "  </div>\n",
              "  "
            ]
          },
          "metadata": {},
          "execution_count": 77
        }
      ]
    },
    {
      "cell_type": "markdown",
      "source": [
        "Now append the clean text with the data."
      ],
      "metadata": {
        "id": "zP2mJ8tlhkVe"
      }
    },
    {
      "cell_type": "code",
      "source": [
        "data_twitter_corona_train['clean_text']=data_twitter_corona_train['text'].apply(clean_text)\n",
        "data_twitter_corona_train.head()"
      ],
      "metadata": {
        "colab": {
          "base_uri": "https://localhost:8080/",
          "height": 206
        },
        "id": "k-b8x__Nl4nB",
        "outputId": "6c6f31c3-f973-4eb3-d9c3-8169eafe7b06"
      },
      "execution_count": 78,
      "outputs": [
        {
          "output_type": "execute_result",
          "data": {
            "text/plain": [
              "   UserName  ScreenName   Location     TweetAt  \\\n",
              "0      3799       48751     London  16-03-2020   \n",
              "1      3800       48752         UK  16-03-2020   \n",
              "2      3801       48753  Vagabonds  16-03-2020   \n",
              "3      3802       48754        NaN  16-03-2020   \n",
              "4      3803       48755        NaN  16-03-2020   \n",
              "\n",
              "                                       OriginalTweet  Sentiment  \\\n",
              "0                                                NaN          1   \n",
              "1  advice Talk neighbours family exchange phone n...          2   \n",
              "2  Coronavirus Australia: Woolworths give elderly...          2   \n",
              "3  My food stock one empty... PLEASE, panic, THER...          2   \n",
              "4  Me, ready go supermarket outbreak. Not I'm par...          0   \n",
              "\n",
              "                                                text  \\\n",
              "0             menyrbie philgahan chrisitv  and  and    \n",
              "1  advice talk to your neighbours family to excha...   \n",
              "2  coronavirus australia woolworths to give elder...   \n",
              "3  my food stock is not the only one which is emp...   \n",
              "4  me ready to go at supermarket during the  outb...   \n",
              "\n",
              "                                          clean_text  \n",
              "0             menyrbie philgahan chrisitv  and  and   \n",
              "1  advice talk to your neighbours family to excha...  \n",
              "2  coronavirus australia woolworths to give elder...  \n",
              "3  my food stock is not the only one which is emp...  \n",
              "4  me ready to go at supermarket during the  outb...  "
            ],
            "text/html": [
              "\n",
              "  <div id=\"df-0b750397-28ee-4fb3-bad0-231778416e2c\">\n",
              "    <div class=\"colab-df-container\">\n",
              "      <div>\n",
              "<style scoped>\n",
              "    .dataframe tbody tr th:only-of-type {\n",
              "        vertical-align: middle;\n",
              "    }\n",
              "\n",
              "    .dataframe tbody tr th {\n",
              "        vertical-align: top;\n",
              "    }\n",
              "\n",
              "    .dataframe thead th {\n",
              "        text-align: right;\n",
              "    }\n",
              "</style>\n",
              "<table border=\"1\" class=\"dataframe\">\n",
              "  <thead>\n",
              "    <tr style=\"text-align: right;\">\n",
              "      <th></th>\n",
              "      <th>UserName</th>\n",
              "      <th>ScreenName</th>\n",
              "      <th>Location</th>\n",
              "      <th>TweetAt</th>\n",
              "      <th>OriginalTweet</th>\n",
              "      <th>Sentiment</th>\n",
              "      <th>text</th>\n",
              "      <th>clean_text</th>\n",
              "    </tr>\n",
              "  </thead>\n",
              "  <tbody>\n",
              "    <tr>\n",
              "      <th>0</th>\n",
              "      <td>3799</td>\n",
              "      <td>48751</td>\n",
              "      <td>London</td>\n",
              "      <td>16-03-2020</td>\n",
              "      <td>NaN</td>\n",
              "      <td>1</td>\n",
              "      <td>menyrbie philgahan chrisitv  and  and</td>\n",
              "      <td>menyrbie philgahan chrisitv  and  and</td>\n",
              "    </tr>\n",
              "    <tr>\n",
              "      <th>1</th>\n",
              "      <td>3800</td>\n",
              "      <td>48752</td>\n",
              "      <td>UK</td>\n",
              "      <td>16-03-2020</td>\n",
              "      <td>advice Talk neighbours family exchange phone n...</td>\n",
              "      <td>2</td>\n",
              "      <td>advice talk to your neighbours family to excha...</td>\n",
              "      <td>advice talk to your neighbours family to excha...</td>\n",
              "    </tr>\n",
              "    <tr>\n",
              "      <th>2</th>\n",
              "      <td>3801</td>\n",
              "      <td>48753</td>\n",
              "      <td>Vagabonds</td>\n",
              "      <td>16-03-2020</td>\n",
              "      <td>Coronavirus Australia: Woolworths give elderly...</td>\n",
              "      <td>2</td>\n",
              "      <td>coronavirus australia woolworths to give elder...</td>\n",
              "      <td>coronavirus australia woolworths to give elder...</td>\n",
              "    </tr>\n",
              "    <tr>\n",
              "      <th>3</th>\n",
              "      <td>3802</td>\n",
              "      <td>48754</td>\n",
              "      <td>NaN</td>\n",
              "      <td>16-03-2020</td>\n",
              "      <td>My food stock one empty... PLEASE, panic, THER...</td>\n",
              "      <td>2</td>\n",
              "      <td>my food stock is not the only one which is emp...</td>\n",
              "      <td>my food stock is not the only one which is emp...</td>\n",
              "    </tr>\n",
              "    <tr>\n",
              "      <th>4</th>\n",
              "      <td>3803</td>\n",
              "      <td>48755</td>\n",
              "      <td>NaN</td>\n",
              "      <td>16-03-2020</td>\n",
              "      <td>Me, ready go supermarket outbreak. Not I'm par...</td>\n",
              "      <td>0</td>\n",
              "      <td>me ready to go at supermarket during the  outb...</td>\n",
              "      <td>me ready to go at supermarket during the  outb...</td>\n",
              "    </tr>\n",
              "  </tbody>\n",
              "</table>\n",
              "</div>\n",
              "      <button class=\"colab-df-convert\" onclick=\"convertToInteractive('df-0b750397-28ee-4fb3-bad0-231778416e2c')\"\n",
              "              title=\"Convert this dataframe to an interactive table.\"\n",
              "              style=\"display:none;\">\n",
              "        \n",
              "  <svg xmlns=\"http://www.w3.org/2000/svg\" height=\"24px\"viewBox=\"0 0 24 24\"\n",
              "       width=\"24px\">\n",
              "    <path d=\"M0 0h24v24H0V0z\" fill=\"none\"/>\n",
              "    <path d=\"M18.56 5.44l.94 2.06.94-2.06 2.06-.94-2.06-.94-.94-2.06-.94 2.06-2.06.94zm-11 1L8.5 8.5l.94-2.06 2.06-.94-2.06-.94L8.5 2.5l-.94 2.06-2.06.94zm10 10l.94 2.06.94-2.06 2.06-.94-2.06-.94-.94-2.06-.94 2.06-2.06.94z\"/><path d=\"M17.41 7.96l-1.37-1.37c-.4-.4-.92-.59-1.43-.59-.52 0-1.04.2-1.43.59L10.3 9.45l-7.72 7.72c-.78.78-.78 2.05 0 2.83L4 21.41c.39.39.9.59 1.41.59.51 0 1.02-.2 1.41-.59l7.78-7.78 2.81-2.81c.8-.78.8-2.07 0-2.86zM5.41 20L4 18.59l7.72-7.72 1.47 1.35L5.41 20z\"/>\n",
              "  </svg>\n",
              "      </button>\n",
              "      \n",
              "  <style>\n",
              "    .colab-df-container {\n",
              "      display:flex;\n",
              "      flex-wrap:wrap;\n",
              "      gap: 12px;\n",
              "    }\n",
              "\n",
              "    .colab-df-convert {\n",
              "      background-color: #E8F0FE;\n",
              "      border: none;\n",
              "      border-radius: 50%;\n",
              "      cursor: pointer;\n",
              "      display: none;\n",
              "      fill: #1967D2;\n",
              "      height: 32px;\n",
              "      padding: 0 0 0 0;\n",
              "      width: 32px;\n",
              "    }\n",
              "\n",
              "    .colab-df-convert:hover {\n",
              "      background-color: #E2EBFA;\n",
              "      box-shadow: 0px 1px 2px rgba(60, 64, 67, 0.3), 0px 1px 3px 1px rgba(60, 64, 67, 0.15);\n",
              "      fill: #174EA6;\n",
              "    }\n",
              "\n",
              "    [theme=dark] .colab-df-convert {\n",
              "      background-color: #3B4455;\n",
              "      fill: #D2E3FC;\n",
              "    }\n",
              "\n",
              "    [theme=dark] .colab-df-convert:hover {\n",
              "      background-color: #434B5C;\n",
              "      box-shadow: 0px 1px 3px 1px rgba(0, 0, 0, 0.15);\n",
              "      filter: drop-shadow(0px 1px 2px rgba(0, 0, 0, 0.3));\n",
              "      fill: #FFFFFF;\n",
              "    }\n",
              "  </style>\n",
              "\n",
              "      <script>\n",
              "        const buttonEl =\n",
              "          document.querySelector('#df-0b750397-28ee-4fb3-bad0-231778416e2c button.colab-df-convert');\n",
              "        buttonEl.style.display =\n",
              "          google.colab.kernel.accessAllowed ? 'block' : 'none';\n",
              "\n",
              "        async function convertToInteractive(key) {\n",
              "          const element = document.querySelector('#df-0b750397-28ee-4fb3-bad0-231778416e2c');\n",
              "          const dataTable =\n",
              "            await google.colab.kernel.invokeFunction('convertToInteractive',\n",
              "                                                     [key], {});\n",
              "          if (!dataTable) return;\n",
              "\n",
              "          const docLinkHtml = 'Like what you see? Visit the ' +\n",
              "            '<a target=\"_blank\" href=https://colab.research.google.com/notebooks/data_table.ipynb>data table notebook</a>'\n",
              "            + ' to learn more about interactive tables.';\n",
              "          element.innerHTML = '';\n",
              "          dataTable['output_type'] = 'display_data';\n",
              "          await google.colab.output.renderOutput(dataTable, element);\n",
              "          const docLink = document.createElement('div');\n",
              "          docLink.innerHTML = docLinkHtml;\n",
              "          element.appendChild(docLink);\n",
              "        }\n",
              "      </script>\n",
              "    </div>\n",
              "  </div>\n",
              "  "
            ]
          },
          "metadata": {},
          "execution_count": 78
        }
      ]
    },
    {
      "cell_type": "code",
      "source": [
        "from nltk.corpus import stopwords\n",
        "nltk.download('punkt')\n",
        "nltk.download('wordnet')\n",
        "nltk.download('stopwords')\n",
        "from nltk.stem import WordNetLemmatizer\n",
        "from wordcloud import WordCloud\n",
        "\n",
        "from collections import defaultdict\n",
        "from collections import  Counter\n",
        "stop=set(stopwords.words('english'))"
      ],
      "metadata": {
        "colab": {
          "base_uri": "https://localhost:8080/"
        },
        "id": "unliyp8Tx9XF",
        "outputId": "f3ccb225-668b-4f47-e55a-c0780be15379"
      },
      "execution_count": 79,
      "outputs": [
        {
          "output_type": "stream",
          "name": "stderr",
          "text": [
            "[nltk_data] Downloading package punkt to /root/nltk_data...\n",
            "[nltk_data]   Package punkt is already up-to-date!\n",
            "[nltk_data] Downloading package wordnet to /root/nltk_data...\n",
            "[nltk_data]   Package wordnet is already up-to-date!\n",
            "[nltk_data] Downloading package stopwords to /root/nltk_data...\n",
            "[nltk_data]   Package stopwords is already up-to-date!\n"
          ]
        }
      ]
    },
    {
      "cell_type": "markdown",
      "source": [
        "Now split the words evenly including spaces."
      ],
      "metadata": {
        "id": "OjI9mVA_h4gM"
      }
    },
    {
      "cell_type": "code",
      "source": [
        "data_twitter_corona_train['clean_text'] = data_twitter_corona_train['clean_text'].apply(lambda x: ' '.join([word for word in x.split() if word not in (stop)]))\n",
        "data_twitter_corona_train.head()"
      ],
      "metadata": {
        "colab": {
          "base_uri": "https://localhost:8080/",
          "height": 206
        },
        "id": "-PS3c0t0xm0f",
        "outputId": "f4178220-a460-4cec-f0a7-8b31540fc475"
      },
      "execution_count": 80,
      "outputs": [
        {
          "output_type": "execute_result",
          "data": {
            "text/plain": [
              "   UserName  ScreenName   Location     TweetAt  \\\n",
              "0      3799       48751     London  16-03-2020   \n",
              "1      3800       48752         UK  16-03-2020   \n",
              "2      3801       48753  Vagabonds  16-03-2020   \n",
              "3      3802       48754        NaN  16-03-2020   \n",
              "4      3803       48755        NaN  16-03-2020   \n",
              "\n",
              "                                       OriginalTweet  Sentiment  \\\n",
              "0                                                NaN          1   \n",
              "1  advice Talk neighbours family exchange phone n...          2   \n",
              "2  Coronavirus Australia: Woolworths give elderly...          2   \n",
              "3  My food stock one empty... PLEASE, panic, THER...          2   \n",
              "4  Me, ready go supermarket outbreak. Not I'm par...          0   \n",
              "\n",
              "                                                text  \\\n",
              "0             menyrbie philgahan chrisitv  and  and    \n",
              "1  advice talk to your neighbours family to excha...   \n",
              "2  coronavirus australia woolworths to give elder...   \n",
              "3  my food stock is not the only one which is emp...   \n",
              "4  me ready to go at supermarket during the  outb...   \n",
              "\n",
              "                                          clean_text  \n",
              "0                        menyrbie philgahan chrisitv  \n",
              "1  advice talk neighbours family exchange phone n...  \n",
              "2  coronavirus australia woolworths give elderly ...  \n",
              "3  food stock one empty please dont panic enough ...  \n",
              "4  ready go supermarket outbreak im paranoid food...  "
            ],
            "text/html": [
              "\n",
              "  <div id=\"df-2c7e1c2a-406d-44e6-9569-292c3b6bebf9\">\n",
              "    <div class=\"colab-df-container\">\n",
              "      <div>\n",
              "<style scoped>\n",
              "    .dataframe tbody tr th:only-of-type {\n",
              "        vertical-align: middle;\n",
              "    }\n",
              "\n",
              "    .dataframe tbody tr th {\n",
              "        vertical-align: top;\n",
              "    }\n",
              "\n",
              "    .dataframe thead th {\n",
              "        text-align: right;\n",
              "    }\n",
              "</style>\n",
              "<table border=\"1\" class=\"dataframe\">\n",
              "  <thead>\n",
              "    <tr style=\"text-align: right;\">\n",
              "      <th></th>\n",
              "      <th>UserName</th>\n",
              "      <th>ScreenName</th>\n",
              "      <th>Location</th>\n",
              "      <th>TweetAt</th>\n",
              "      <th>OriginalTweet</th>\n",
              "      <th>Sentiment</th>\n",
              "      <th>text</th>\n",
              "      <th>clean_text</th>\n",
              "    </tr>\n",
              "  </thead>\n",
              "  <tbody>\n",
              "    <tr>\n",
              "      <th>0</th>\n",
              "      <td>3799</td>\n",
              "      <td>48751</td>\n",
              "      <td>London</td>\n",
              "      <td>16-03-2020</td>\n",
              "      <td>NaN</td>\n",
              "      <td>1</td>\n",
              "      <td>menyrbie philgahan chrisitv  and  and</td>\n",
              "      <td>menyrbie philgahan chrisitv</td>\n",
              "    </tr>\n",
              "    <tr>\n",
              "      <th>1</th>\n",
              "      <td>3800</td>\n",
              "      <td>48752</td>\n",
              "      <td>UK</td>\n",
              "      <td>16-03-2020</td>\n",
              "      <td>advice Talk neighbours family exchange phone n...</td>\n",
              "      <td>2</td>\n",
              "      <td>advice talk to your neighbours family to excha...</td>\n",
              "      <td>advice talk neighbours family exchange phone n...</td>\n",
              "    </tr>\n",
              "    <tr>\n",
              "      <th>2</th>\n",
              "      <td>3801</td>\n",
              "      <td>48753</td>\n",
              "      <td>Vagabonds</td>\n",
              "      <td>16-03-2020</td>\n",
              "      <td>Coronavirus Australia: Woolworths give elderly...</td>\n",
              "      <td>2</td>\n",
              "      <td>coronavirus australia woolworths to give elder...</td>\n",
              "      <td>coronavirus australia woolworths give elderly ...</td>\n",
              "    </tr>\n",
              "    <tr>\n",
              "      <th>3</th>\n",
              "      <td>3802</td>\n",
              "      <td>48754</td>\n",
              "      <td>NaN</td>\n",
              "      <td>16-03-2020</td>\n",
              "      <td>My food stock one empty... PLEASE, panic, THER...</td>\n",
              "      <td>2</td>\n",
              "      <td>my food stock is not the only one which is emp...</td>\n",
              "      <td>food stock one empty please dont panic enough ...</td>\n",
              "    </tr>\n",
              "    <tr>\n",
              "      <th>4</th>\n",
              "      <td>3803</td>\n",
              "      <td>48755</td>\n",
              "      <td>NaN</td>\n",
              "      <td>16-03-2020</td>\n",
              "      <td>Me, ready go supermarket outbreak. Not I'm par...</td>\n",
              "      <td>0</td>\n",
              "      <td>me ready to go at supermarket during the  outb...</td>\n",
              "      <td>ready go supermarket outbreak im paranoid food...</td>\n",
              "    </tr>\n",
              "  </tbody>\n",
              "</table>\n",
              "</div>\n",
              "      <button class=\"colab-df-convert\" onclick=\"convertToInteractive('df-2c7e1c2a-406d-44e6-9569-292c3b6bebf9')\"\n",
              "              title=\"Convert this dataframe to an interactive table.\"\n",
              "              style=\"display:none;\">\n",
              "        \n",
              "  <svg xmlns=\"http://www.w3.org/2000/svg\" height=\"24px\"viewBox=\"0 0 24 24\"\n",
              "       width=\"24px\">\n",
              "    <path d=\"M0 0h24v24H0V0z\" fill=\"none\"/>\n",
              "    <path d=\"M18.56 5.44l.94 2.06.94-2.06 2.06-.94-2.06-.94-.94-2.06-.94 2.06-2.06.94zm-11 1L8.5 8.5l.94-2.06 2.06-.94-2.06-.94L8.5 2.5l-.94 2.06-2.06.94zm10 10l.94 2.06.94-2.06 2.06-.94-2.06-.94-.94-2.06-.94 2.06-2.06.94z\"/><path d=\"M17.41 7.96l-1.37-1.37c-.4-.4-.92-.59-1.43-.59-.52 0-1.04.2-1.43.59L10.3 9.45l-7.72 7.72c-.78.78-.78 2.05 0 2.83L4 21.41c.39.39.9.59 1.41.59.51 0 1.02-.2 1.41-.59l7.78-7.78 2.81-2.81c.8-.78.8-2.07 0-2.86zM5.41 20L4 18.59l7.72-7.72 1.47 1.35L5.41 20z\"/>\n",
              "  </svg>\n",
              "      </button>\n",
              "      \n",
              "  <style>\n",
              "    .colab-df-container {\n",
              "      display:flex;\n",
              "      flex-wrap:wrap;\n",
              "      gap: 12px;\n",
              "    }\n",
              "\n",
              "    .colab-df-convert {\n",
              "      background-color: #E8F0FE;\n",
              "      border: none;\n",
              "      border-radius: 50%;\n",
              "      cursor: pointer;\n",
              "      display: none;\n",
              "      fill: #1967D2;\n",
              "      height: 32px;\n",
              "      padding: 0 0 0 0;\n",
              "      width: 32px;\n",
              "    }\n",
              "\n",
              "    .colab-df-convert:hover {\n",
              "      background-color: #E2EBFA;\n",
              "      box-shadow: 0px 1px 2px rgba(60, 64, 67, 0.3), 0px 1px 3px 1px rgba(60, 64, 67, 0.15);\n",
              "      fill: #174EA6;\n",
              "    }\n",
              "\n",
              "    [theme=dark] .colab-df-convert {\n",
              "      background-color: #3B4455;\n",
              "      fill: #D2E3FC;\n",
              "    }\n",
              "\n",
              "    [theme=dark] .colab-df-convert:hover {\n",
              "      background-color: #434B5C;\n",
              "      box-shadow: 0px 1px 3px 1px rgba(0, 0, 0, 0.15);\n",
              "      filter: drop-shadow(0px 1px 2px rgba(0, 0, 0, 0.3));\n",
              "      fill: #FFFFFF;\n",
              "    }\n",
              "  </style>\n",
              "\n",
              "      <script>\n",
              "        const buttonEl =\n",
              "          document.querySelector('#df-2c7e1c2a-406d-44e6-9569-292c3b6bebf9 button.colab-df-convert');\n",
              "        buttonEl.style.display =\n",
              "          google.colab.kernel.accessAllowed ? 'block' : 'none';\n",
              "\n",
              "        async function convertToInteractive(key) {\n",
              "          const element = document.querySelector('#df-2c7e1c2a-406d-44e6-9569-292c3b6bebf9');\n",
              "          const dataTable =\n",
              "            await google.colab.kernel.invokeFunction('convertToInteractive',\n",
              "                                                     [key], {});\n",
              "          if (!dataTable) return;\n",
              "\n",
              "          const docLinkHtml = 'Like what you see? Visit the ' +\n",
              "            '<a target=\"_blank\" href=https://colab.research.google.com/notebooks/data_table.ipynb>data table notebook</a>'\n",
              "            + ' to learn more about interactive tables.';\n",
              "          element.innerHTML = '';\n",
              "          dataTable['output_type'] = 'display_data';\n",
              "          await google.colab.output.renderOutput(dataTable, element);\n",
              "          const docLink = document.createElement('div');\n",
              "          docLink.innerHTML = docLinkHtml;\n",
              "          element.appendChild(docLink);\n",
              "        }\n",
              "      </script>\n",
              "    </div>\n",
              "  </div>\n",
              "  "
            ]
          },
          "metadata": {},
          "execution_count": 80
        }
      ]
    },
    {
      "cell_type": "code",
      "source": [
        "import nltk\n",
        "nltk.download('omw-1.4')"
      ],
      "metadata": {
        "colab": {
          "base_uri": "https://localhost:8080/"
        },
        "id": "1RDzKKi0ybYi",
        "outputId": "b94992d5-a3cf-4412-9773-1db0bbdabb3b"
      },
      "execution_count": 81,
      "outputs": [
        {
          "output_type": "stream",
          "name": "stderr",
          "text": [
            "[nltk_data] Downloading package omw-1.4 to /root/nltk_data...\n",
            "[nltk_data]   Package omw-1.4 is already up-to-date!\n"
          ]
        },
        {
          "output_type": "execute_result",
          "data": {
            "text/plain": [
              "True"
            ]
          },
          "metadata": {},
          "execution_count": 81
        }
      ]
    },
    {
      "cell_type": "markdown",
      "source": [
        "## Lemmatization\n",
        "**Lemmatization** and **stemming** are two important steps in natural language processing (NLP). Lemmatization is the process of converting a word to its base form while stemming is a rule-based approach that removes the last few characters to try to derive the root form of a word. Although stemming is faster, it often leads to incorrect meanings and spelling errors. On the other hand, lemmatization has higher accuracy and is preferred for context analysis, while stemming is recommended when the context is not important. In our case, context is not important so we are going to use lemmatization."
      ],
      "metadata": {
        "id": "FiO8H4ym_R9h"
      }
    },
    {
      "cell_type": "code",
      "source": [
        "lemmation_data = WordNetLemmatizer()\n",
        "\n",
        "def preprocessdata(text):\n",
        "    text= ' '.join(lemmation_data.lemmatize(word) for word in text.split(' '))\n",
        "    return text\n",
        "\n",
        "data_twitter_corona_train['final_text']=data_twitter_corona_train['clean_text'].apply(preprocessdata)\n",
        "data_twitter_corona_train.head()"
      ],
      "metadata": {
        "colab": {
          "base_uri": "https://localhost:8080/",
          "height": 337
        },
        "id": "G3McljqUxmxF",
        "outputId": "814d6e20-5069-4071-cdf9-b244fbe0a323"
      },
      "execution_count": 82,
      "outputs": [
        {
          "output_type": "execute_result",
          "data": {
            "text/plain": [
              "   UserName  ScreenName   Location     TweetAt  \\\n",
              "0      3799       48751     London  16-03-2020   \n",
              "1      3800       48752         UK  16-03-2020   \n",
              "2      3801       48753  Vagabonds  16-03-2020   \n",
              "3      3802       48754        NaN  16-03-2020   \n",
              "4      3803       48755        NaN  16-03-2020   \n",
              "\n",
              "                                       OriginalTweet  Sentiment  \\\n",
              "0                                                NaN          1   \n",
              "1  advice Talk neighbours family exchange phone n...          2   \n",
              "2  Coronavirus Australia: Woolworths give elderly...          2   \n",
              "3  My food stock one empty... PLEASE, panic, THER...          2   \n",
              "4  Me, ready go supermarket outbreak. Not I'm par...          0   \n",
              "\n",
              "                                                text  \\\n",
              "0             menyrbie philgahan chrisitv  and  and    \n",
              "1  advice talk to your neighbours family to excha...   \n",
              "2  coronavirus australia woolworths to give elder...   \n",
              "3  my food stock is not the only one which is emp...   \n",
              "4  me ready to go at supermarket during the  outb...   \n",
              "\n",
              "                                          clean_text  \\\n",
              "0                        menyrbie philgahan chrisitv   \n",
              "1  advice talk neighbours family exchange phone n...   \n",
              "2  coronavirus australia woolworths give elderly ...   \n",
              "3  food stock one empty please dont panic enough ...   \n",
              "4  ready go supermarket outbreak im paranoid food...   \n",
              "\n",
              "                                          final_text  \n",
              "0                        menyrbie philgahan chrisitv  \n",
              "1  advice talk neighbour family exchange phone nu...  \n",
              "2  coronavirus australia woolworth give elderly d...  \n",
              "3  food stock one empty please dont panic enough ...  \n",
              "4  ready go supermarket outbreak im paranoid food...  "
            ],
            "text/html": [
              "\n",
              "  <div id=\"df-7a10c8e3-0c33-4f03-8218-89a54a8d5e5c\">\n",
              "    <div class=\"colab-df-container\">\n",
              "      <div>\n",
              "<style scoped>\n",
              "    .dataframe tbody tr th:only-of-type {\n",
              "        vertical-align: middle;\n",
              "    }\n",
              "\n",
              "    .dataframe tbody tr th {\n",
              "        vertical-align: top;\n",
              "    }\n",
              "\n",
              "    .dataframe thead th {\n",
              "        text-align: right;\n",
              "    }\n",
              "</style>\n",
              "<table border=\"1\" class=\"dataframe\">\n",
              "  <thead>\n",
              "    <tr style=\"text-align: right;\">\n",
              "      <th></th>\n",
              "      <th>UserName</th>\n",
              "      <th>ScreenName</th>\n",
              "      <th>Location</th>\n",
              "      <th>TweetAt</th>\n",
              "      <th>OriginalTweet</th>\n",
              "      <th>Sentiment</th>\n",
              "      <th>text</th>\n",
              "      <th>clean_text</th>\n",
              "      <th>final_text</th>\n",
              "    </tr>\n",
              "  </thead>\n",
              "  <tbody>\n",
              "    <tr>\n",
              "      <th>0</th>\n",
              "      <td>3799</td>\n",
              "      <td>48751</td>\n",
              "      <td>London</td>\n",
              "      <td>16-03-2020</td>\n",
              "      <td>NaN</td>\n",
              "      <td>1</td>\n",
              "      <td>menyrbie philgahan chrisitv  and  and</td>\n",
              "      <td>menyrbie philgahan chrisitv</td>\n",
              "      <td>menyrbie philgahan chrisitv</td>\n",
              "    </tr>\n",
              "    <tr>\n",
              "      <th>1</th>\n",
              "      <td>3800</td>\n",
              "      <td>48752</td>\n",
              "      <td>UK</td>\n",
              "      <td>16-03-2020</td>\n",
              "      <td>advice Talk neighbours family exchange phone n...</td>\n",
              "      <td>2</td>\n",
              "      <td>advice talk to your neighbours family to excha...</td>\n",
              "      <td>advice talk neighbours family exchange phone n...</td>\n",
              "      <td>advice talk neighbour family exchange phone nu...</td>\n",
              "    </tr>\n",
              "    <tr>\n",
              "      <th>2</th>\n",
              "      <td>3801</td>\n",
              "      <td>48753</td>\n",
              "      <td>Vagabonds</td>\n",
              "      <td>16-03-2020</td>\n",
              "      <td>Coronavirus Australia: Woolworths give elderly...</td>\n",
              "      <td>2</td>\n",
              "      <td>coronavirus australia woolworths to give elder...</td>\n",
              "      <td>coronavirus australia woolworths give elderly ...</td>\n",
              "      <td>coronavirus australia woolworth give elderly d...</td>\n",
              "    </tr>\n",
              "    <tr>\n",
              "      <th>3</th>\n",
              "      <td>3802</td>\n",
              "      <td>48754</td>\n",
              "      <td>NaN</td>\n",
              "      <td>16-03-2020</td>\n",
              "      <td>My food stock one empty... PLEASE, panic, THER...</td>\n",
              "      <td>2</td>\n",
              "      <td>my food stock is not the only one which is emp...</td>\n",
              "      <td>food stock one empty please dont panic enough ...</td>\n",
              "      <td>food stock one empty please dont panic enough ...</td>\n",
              "    </tr>\n",
              "    <tr>\n",
              "      <th>4</th>\n",
              "      <td>3803</td>\n",
              "      <td>48755</td>\n",
              "      <td>NaN</td>\n",
              "      <td>16-03-2020</td>\n",
              "      <td>Me, ready go supermarket outbreak. Not I'm par...</td>\n",
              "      <td>0</td>\n",
              "      <td>me ready to go at supermarket during the  outb...</td>\n",
              "      <td>ready go supermarket outbreak im paranoid food...</td>\n",
              "      <td>ready go supermarket outbreak im paranoid food...</td>\n",
              "    </tr>\n",
              "  </tbody>\n",
              "</table>\n",
              "</div>\n",
              "      <button class=\"colab-df-convert\" onclick=\"convertToInteractive('df-7a10c8e3-0c33-4f03-8218-89a54a8d5e5c')\"\n",
              "              title=\"Convert this dataframe to an interactive table.\"\n",
              "              style=\"display:none;\">\n",
              "        \n",
              "  <svg xmlns=\"http://www.w3.org/2000/svg\" height=\"24px\"viewBox=\"0 0 24 24\"\n",
              "       width=\"24px\">\n",
              "    <path d=\"M0 0h24v24H0V0z\" fill=\"none\"/>\n",
              "    <path d=\"M18.56 5.44l.94 2.06.94-2.06 2.06-.94-2.06-.94-.94-2.06-.94 2.06-2.06.94zm-11 1L8.5 8.5l.94-2.06 2.06-.94-2.06-.94L8.5 2.5l-.94 2.06-2.06.94zm10 10l.94 2.06.94-2.06 2.06-.94-2.06-.94-.94-2.06-.94 2.06-2.06.94z\"/><path d=\"M17.41 7.96l-1.37-1.37c-.4-.4-.92-.59-1.43-.59-.52 0-1.04.2-1.43.59L10.3 9.45l-7.72 7.72c-.78.78-.78 2.05 0 2.83L4 21.41c.39.39.9.59 1.41.59.51 0 1.02-.2 1.41-.59l7.78-7.78 2.81-2.81c.8-.78.8-2.07 0-2.86zM5.41 20L4 18.59l7.72-7.72 1.47 1.35L5.41 20z\"/>\n",
              "  </svg>\n",
              "      </button>\n",
              "      \n",
              "  <style>\n",
              "    .colab-df-container {\n",
              "      display:flex;\n",
              "      flex-wrap:wrap;\n",
              "      gap: 12px;\n",
              "    }\n",
              "\n",
              "    .colab-df-convert {\n",
              "      background-color: #E8F0FE;\n",
              "      border: none;\n",
              "      border-radius: 50%;\n",
              "      cursor: pointer;\n",
              "      display: none;\n",
              "      fill: #1967D2;\n",
              "      height: 32px;\n",
              "      padding: 0 0 0 0;\n",
              "      width: 32px;\n",
              "    }\n",
              "\n",
              "    .colab-df-convert:hover {\n",
              "      background-color: #E2EBFA;\n",
              "      box-shadow: 0px 1px 2px rgba(60, 64, 67, 0.3), 0px 1px 3px 1px rgba(60, 64, 67, 0.15);\n",
              "      fill: #174EA6;\n",
              "    }\n",
              "\n",
              "    [theme=dark] .colab-df-convert {\n",
              "      background-color: #3B4455;\n",
              "      fill: #D2E3FC;\n",
              "    }\n",
              "\n",
              "    [theme=dark] .colab-df-convert:hover {\n",
              "      background-color: #434B5C;\n",
              "      box-shadow: 0px 1px 3px 1px rgba(0, 0, 0, 0.15);\n",
              "      filter: drop-shadow(0px 1px 2px rgba(0, 0, 0, 0.3));\n",
              "      fill: #FFFFFF;\n",
              "    }\n",
              "  </style>\n",
              "\n",
              "      <script>\n",
              "        const buttonEl =\n",
              "          document.querySelector('#df-7a10c8e3-0c33-4f03-8218-89a54a8d5e5c button.colab-df-convert');\n",
              "        buttonEl.style.display =\n",
              "          google.colab.kernel.accessAllowed ? 'block' : 'none';\n",
              "\n",
              "        async function convertToInteractive(key) {\n",
              "          const element = document.querySelector('#df-7a10c8e3-0c33-4f03-8218-89a54a8d5e5c');\n",
              "          const dataTable =\n",
              "            await google.colab.kernel.invokeFunction('convertToInteractive',\n",
              "                                                     [key], {});\n",
              "          if (!dataTable) return;\n",
              "\n",
              "          const docLinkHtml = 'Like what you see? Visit the ' +\n",
              "            '<a target=\"_blank\" href=https://colab.research.google.com/notebooks/data_table.ipynb>data table notebook</a>'\n",
              "            + ' to learn more about interactive tables.';\n",
              "          element.innerHTML = '';\n",
              "          dataTable['output_type'] = 'display_data';\n",
              "          await google.colab.output.renderOutput(dataTable, element);\n",
              "          const docLink = document.createElement('div');\n",
              "          docLink.innerHTML = docLinkHtml;\n",
              "          element.appendChild(docLink);\n",
              "        }\n",
              "      </script>\n",
              "    </div>\n",
              "  </div>\n",
              "  "
            ]
          },
          "metadata": {},
          "execution_count": 82
        }
      ]
    },
    {
      "cell_type": "markdown",
      "source": [
        "## Extraction and Feature Selection"
      ],
      "metadata": {
        "id": "-G78OMRMTGiP"
      }
    },
    {
      "cell_type": "markdown",
      "source": [
        "Let's extract the features, split them into the train, and test for model building."
      ],
      "metadata": {
        "id": "yxFQL1A9kK_y"
      }
    },
    {
      "cell_type": "code",
      "source": [
        "# Splitting data into features(X) and targets(y)\n",
        "X = data_twitter_corona_train['final_text']\n",
        "y = data_twitter_corona_train['Sentiment'].values"
      ],
      "metadata": {
        "id": "cqgROj6IxmvP"
      },
      "execution_count": 83,
      "outputs": []
    },
    {
      "cell_type": "markdown",
      "source": [
        "## Train-Test Split"
      ],
      "metadata": {
        "id": "aEyT2wizTI7s"
      }
    },
    {
      "cell_type": "code",
      "source": [
        "# splitting the training data into train and test sets\n",
        "\n",
        "X_train, X_test, y_train, y_test = train_test_split(X, y, test_size = 0.2, random_state = 42)"
      ],
      "metadata": {
        "id": "ucPJHCE6ypHE"
      },
      "execution_count": 84,
      "outputs": []
    },
    {
      "cell_type": "markdown",
      "source": [
        "The shape of the Train and Test data looks like this,"
      ],
      "metadata": {
        "id": "KA73188ZkmL-"
      }
    },
    {
      "cell_type": "code",
      "source": [
        "X_train.shape, y_train.shape"
      ],
      "metadata": {
        "colab": {
          "base_uri": "https://localhost:8080/"
        },
        "id": "xdA2_5QCyo9a",
        "outputId": "86974dd7-af97-426c-e5e2-d3048fc41102"
      },
      "execution_count": 85,
      "outputs": [
        {
          "output_type": "execute_result",
          "data": {
            "text/plain": [
              "((32925,), (32925,))"
            ]
          },
          "metadata": {},
          "execution_count": 85
        }
      ]
    },
    {
      "cell_type": "code",
      "source": [
        "X_test.shape, y_test.shape"
      ],
      "metadata": {
        "colab": {
          "base_uri": "https://localhost:8080/"
        },
        "id": "S2VN9kHTyo6D",
        "outputId": "b92dcf79-dc3c-4c42-d5d3-977d962b2379"
      },
      "execution_count": 86,
      "outputs": [
        {
          "output_type": "execute_result",
          "data": {
            "text/plain": [
              "((8232,), (8232,))"
            ]
          },
          "metadata": {},
          "execution_count": 86
        }
      ]
    },
    {
      "cell_type": "markdown",
      "source": [
        "## TF-IDF\n",
        "Term Frequency – Inverse Document Frequency (TF-IDF) is a widely used statistical method in natural language processing and information retrieval. It measures how important a term is within a document relative to a collection of documents. \n",
        "\n",
        "\n",
        "CountVectorizer is also another term used to count the number of times a word appears in a document (using a bag-of-words approach), while TF-IDF Vectorizer takes into account not only how many times a word appears in a document but also how important that word is to the whole corpus.\n",
        "\n",
        "Here we have to minimize the number of features to avoid system crashes by setting `min_df` to very low like 3. Also, no need to use `toarray()` for every system crashes as it increases the size of the data."
      ],
      "metadata": {
        "id": "mzfJh1Jz66ci"
      }
    },
    {
      "cell_type": "code",
      "source": [
        "tfidf = TfidfVectorizer()\n",
        "#X_train = tfidf.fit_transform(X_train).toarray()\n",
        "\n",
        "X_train = tfidf.fit_transform(X_train)\n",
        "\n",
        "#X_test = tfidf.transform(X_test).toarray()\n",
        "\n",
        "X_test = tfidf.transform(X_test)"
      ],
      "metadata": {
        "id": "RG7iB5lzzKJY"
      },
      "execution_count": 87,
      "outputs": []
    },
    {
      "cell_type": "markdown",
      "source": [
        "```\n",
        "Issues faced: Used all the RAM, system crashes\n",
        "Your session crashed after using all available RAM.\n",
        "System RAM\n",
        "5.0 / 12.7 GB\n",
        "Disk\n",
        "23.5 / 107.7 GB\n",
        "```\n",
        "\n",
        "\n",
        "\n",
        "\n"
      ],
      "metadata": {
        "id": "gL1EmF07MF6Y"
      }
    },
    {
      "cell_type": "code",
      "source": [
        "X_train"
      ],
      "metadata": {
        "colab": {
          "base_uri": "https://localhost:8080/"
        },
        "id": "P6LtwNzbW4s3",
        "outputId": "b5ea9a49-3610-4057-9beb-1a22af453f81"
      },
      "execution_count": 24,
      "outputs": [
        {
          "output_type": "execute_result",
          "data": {
            "text/plain": [
              "<32925x46051 sparse matrix of type '<class 'numpy.float64'>'\n",
              "\twith 544488 stored elements in Compressed Sparse Row format>"
            ]
          },
          "metadata": {},
          "execution_count": 24
        }
      ]
    },
    {
      "cell_type": "markdown",
      "source": [
        "# Establish a Baseline"
      ],
      "metadata": {
        "id": "YIT4funZwQLU"
      }
    },
    {
      "cell_type": "markdown",
      "source": [
        "We are establish a rough baseline here as reference to comparing models using the mean absolute error. \n",
        "\n",
        "Another way to establish a baseline is by chosing any actual model from below that performed well."
      ],
      "metadata": {
        "id": "-WGX14BERG-h"
      }
    },
    {
      "cell_type": "code",
      "source": [
        "# Function to calculate mean absolute error\n",
        "# X_train, X_test, y_train, y_test\n",
        "\n",
        "def mae(y_train, y_test):\n",
        "    return np.mean(abs(y_train - y_test))\n",
        "\n",
        "#Now we can make the median guess and evaluate it on the test set.\n",
        "\n",
        "baseline_guess = np.median(y_train)\n",
        "\n",
        "print('The baseline guess is a score of %0.2f' % baseline_guess)\n",
        "print(\"Baseline Performance on the test set: MAE = %0.4f\" % mae(y_test, baseline_guess))"
      ],
      "metadata": {
        "colab": {
          "base_uri": "https://localhost:8080/"
        },
        "id": "kCE5mRO1wO4A",
        "outputId": "e01cd686-0543-4f4c-f908-9243a5521d60"
      },
      "execution_count": 24,
      "outputs": [
        {
          "output_type": "stream",
          "name": "stdout",
          "text": [
            "The baseline guess is a score of 1.00\n",
            "Baseline Performance on the test set: MAE = 0.8113\n"
          ]
        }
      ]
    },
    {
      "cell_type": "code",
      "source": [
        "#baseline_guess\n",
        "mae(y_test, baseline_guess)"
      ],
      "metadata": {
        "colab": {
          "base_uri": "https://localhost:8080/"
        },
        "id": "YKjMUCnMzatB",
        "outputId": "b99e128c-1ca9-469b-c5e5-530876802495"
      },
      "execution_count": 25,
      "outputs": [
        {
          "output_type": "execute_result",
          "data": {
            "text/plain": [
              "0.8113459669582118"
            ]
          },
          "metadata": {},
          "execution_count": 25
        }
      ]
    },
    {
      "cell_type": "markdown",
      "source": [
        "# Machine Learing Models\n",
        "We will compare seven different supervised machine learning models using the great Scikit-Learn library:\n",
        "## 1. Random Forest Classifier\n",
        "Random Forest is a supervised machine-learning algorithm made up of decision trees that are merged together for a more accurate prediction.\n",
        "Random Forest is used for both classification (each tree gives a classification or a vote) and regression (the forest picks the average of the outputs of all trees) for example, classifying whether an email is “spam” or “not spam”\n",
        "Random Forest is used across many different industries, including banking, retail, and healthcare, to name just a few!\n",
        "Overall, Random Forest is accurate, efficient, and relatively quick to develop, making it an extremely handy tool for data professionals.\n"
      ],
      "metadata": {
        "id": "5-c_abB9UCxN"
      }
    },
    {
      "cell_type": "code",
      "source": [
        "#model_rf = RandomForestClassifier(max_depth=50) # lower the max depth to reduce memory usage, default is 100\n",
        "model_rf = RandomForestClassifier(n_estimators=100, random_state=42, n_jobs=-1)\n",
        "model_rf.fit(X_train, y_train)\n",
        "y_pred_rf = model_rf.predict(X_test)"
      ],
      "metadata": {
        "id": "HnCqCJ4V-Jqu"
      },
      "execution_count": 26,
      "outputs": []
    },
    {
      "cell_type": "code",
      "source": [
        "print(\"Training Accuracy :\", model_rf.score(X_train, y_train))\n",
        "print(\"Testing/Validation Accuracy :\", model_rf.score(X_test, y_test))\n",
        "\n",
        "# Confusion matrix\n",
        "cm_rf = confusion_matrix(y_test, y_pred_rf)   # labels=[1,0]\n",
        "#print('\\n[[ TP FP]')\n",
        "#print('[ FN TN]]')\n",
        "print('\\n',cm_rf)"
      ],
      "metadata": {
        "id": "q03YUaUPR6kr",
        "colab": {
          "base_uri": "https://localhost:8080/"
        },
        "outputId": "6dd48ffb-67d3-483a-cb0c-7a560f5f2397"
      },
      "execution_count": 27,
      "outputs": [
        {
          "output_type": "stream",
          "name": "stdout",
          "text": [
            "Training Accuracy : 0.9998785117691723\n",
            "Testing/Validation Accuracy : 0.7459912536443148\n",
            "\n",
            " [[2177  251  634]\n",
            " [ 230 1007  316]\n",
            " [ 457  203 2957]]\n"
          ]
        }
      ]
    },
    {
      "cell_type": "markdown",
      "source": [
        "Increase in max_depth increases the training and testing accuracy.\n",
        "\n",
        "There are 4-potential outcomes here, \n",
        "\n",
        "![image.png](data:image/png;base64,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)\n",
        "\n",
        "True positive (TP), False positive (FP), False negative (FN), True negative (TN)"
      ],
      "metadata": {
        "id": "2wlCEI-y5jqm"
      }
    },
    {
      "cell_type": "code",
      "source": [
        "class_report_random_forest = classification_report(y_test, y_pred_rf, target_names=['Negative', 'Neutral', 'Positive'])"
      ],
      "metadata": {
        "id": "qBzRQ9ELgHME"
      },
      "execution_count": 28,
      "outputs": []
    },
    {
      "cell_type": "code",
      "source": [
        "print(class_report_random_forest)"
      ],
      "metadata": {
        "id": "gTcbQfad4X4O",
        "colab": {
          "base_uri": "https://localhost:8080/"
        },
        "outputId": "b7876e98-93c5-49a5-eabd-679bdc76ba0c"
      },
      "execution_count": 29,
      "outputs": [
        {
          "output_type": "stream",
          "name": "stdout",
          "text": [
            "              precision    recall  f1-score   support\n",
            "\n",
            "    Negative       0.76      0.71      0.73      3062\n",
            "     Neutral       0.69      0.65      0.67      1553\n",
            "    Positive       0.76      0.82      0.79      3617\n",
            "\n",
            "    accuracy                           0.75      8232\n",
            "   macro avg       0.74      0.73      0.73      8232\n",
            "weighted avg       0.75      0.75      0.74      8232\n",
            "\n"
          ]
        }
      ]
    },
    {
      "cell_type": "code",
      "source": [
        "cm_display_rf = metrics.ConfusionMatrixDisplay(cm_rf, display_labels = ['-ve', ':-|', '+ve'])\n",
        "cm_display_rf.plot(include_values=True, cmap = 'pink')\n",
        "#cm_display.plot(cmap = 'pink')\n",
        "plt.grid(False)\n",
        "plt.title('Random Forest Confusion Matrix \\nSentiment Analysis')\n",
        "plt.show()"
      ],
      "metadata": {
        "colab": {
          "base_uri": "https://localhost:8080/",
          "height": 360
        },
        "id": "b9yEidtxgtMU",
        "outputId": "ebbbfdcb-4764-44c9-ba82-52781a7b173d"
      },
      "execution_count": 30,
      "outputs": [
        {
          "output_type": "display_data",
          "data": {
            "text/plain": [
              "<Figure size 432x288 with 2 Axes>"
            ],
            "image/png": "[encoded data removed]"
          },
          "metadata": {}
        }
      ]
    },
    {
      "cell_type": "markdown",
      "source": [
        "## 2. Naive Bayes Classifier\n",
        "Naïve Bayes Classifier is one of the simple and most effective Classification algorithms which helps in building fast machine learning models that can make quick predictions. It is a probabilistic classifier, which means it predicts on the basis of the probability of an object."
      ],
      "metadata": {
        "id": "966x2nCYUTsz"
      }
    },
    {
      "cell_type": "code",
      "source": [
        "model_naive_bayes = MultinomialNB()\n",
        "\n",
        "model_naive_bayes.fit(X_train,y_train)\n",
        "\n",
        "NB_prediction = model_naive_bayes.predict(X_test)\n",
        "\n",
        "NB_accuracy = accuracy_score(y_test,NB_prediction)\n",
        "print(\"Training accuracy : \",model_naive_bayes.score(X_train,y_train))\n",
        "print(\"Testing/Validation accuracy : \",NB_accuracy )\n",
        "\n",
        "# Confusion matrix\n",
        "cm_nb = confusion_matrix(y_test, NB_prediction) # labels=[1,0])\n",
        "#print('\\n[[ TP FP]')\n",
        "#print('[ FN TN]]')\n",
        "print('\\n',cm_nb)\n",
        "\n",
        "print(classification_report(NB_prediction,y_test, target_names=['Negative', 'Neutral', 'Positive']))"
      ],
      "metadata": {
        "colab": {
          "base_uri": "https://localhost:8080/"
        },
        "id": "Yf94jQ0bEOfn",
        "outputId": "1d849283-86ae-43d4-e17b-4c8a3e9eb740"
      },
      "execution_count": 31,
      "outputs": [
        {
          "output_type": "stream",
          "name": "stdout",
          "text": [
            "Training accuracy :  0.7351556567957479\n",
            "Testing/Validation accuracy :  0.6410349854227405\n",
            "\n",
            " [[1966    4 1092]\n",
            " [ 392   25 1136]\n",
            " [ 329    2 3286]]\n",
            "              precision    recall  f1-score   support\n",
            "\n",
            "    Negative       0.64      0.73      0.68      2687\n",
            "     Neutral       0.02      0.81      0.03        31\n",
            "    Positive       0.91      0.60      0.72      5514\n",
            "\n",
            "    accuracy                           0.64      8232\n",
            "   macro avg       0.52      0.71      0.48      8232\n",
            "weighted avg       0.82      0.64      0.71      8232\n",
            "\n"
          ]
        }
      ]
    },
    {
      "cell_type": "code",
      "source": [
        "cm_display_nb = metrics.ConfusionMatrixDisplay(cm_nb, display_labels = ['-ve', ':-|', '+ve']) # display_labels = [True, False])\n",
        "cm_display_nb.plot(include_values=True, cmap = 'pink')\n",
        "plt.grid(False)\n",
        "plt.title('Naive Bayes Confusion Matrix \\nSentiment Analysis')\n",
        "plt.show()"
      ],
      "metadata": {
        "colab": {
          "base_uri": "https://localhost:8080/",
          "height": 360
        },
        "id": "ZxOB4jmjEOcE",
        "outputId": "755623a0-5906-4894-c9d5-76abe343724a"
      },
      "execution_count": 32,
      "outputs": [
        {
          "output_type": "display_data",
          "data": {
            "text/plain": [
              "<Figure size 432x288 with 2 Axes>"
            ],
            "image/png": "[encoded data removed]"
          },
          "metadata": {}
        }
      ]
    },
    {
      "cell_type": "markdown",
      "source": [
        "## 3. Stochastic Gradient Descent Classifier\n",
        "A stochastic Gradient Descent Classifier is a type of machine learning algorithm that helps computers learn from data. It works by looking at a set of data points and using them to find patterns. It then uses those patterns to make predictions about future data points. It's like a teacher showing a student examples to help them understand a concept. "
      ],
      "metadata": {
        "id": "xqh0d-CNUZRV"
      }
    },
    {
      "cell_type": "code",
      "source": [
        "model_sgd_clf = SGDClassifier(loss = 'hinge', penalty = 'l2', random_state=0)\n",
        "\n",
        "model_sgd_clf.fit(X_train,y_train)\n",
        "\n",
        "sgd_prediction = model_sgd_clf.predict(X_test)\n",
        "sgd_accuracy = accuracy_score(y_test,sgd_prediction)\n",
        "print(\"Training accuracy  : \",model_sgd_clf.score(X_train,y_train))\n",
        "print(\"Test/Validation accuracy : \",sgd_accuracy )\n",
        "# Confusion matrix\n",
        "cm_sgd = confusion_matrix(y_test, sgd_prediction) # labels=[1,0])\n",
        "#print('\\n[[ TP FP]')\n",
        "#print('[ FN TN]]')\n",
        "print('\\n',cm_sgd)\n",
        "\n",
        "print(classification_report(sgd_prediction,y_test,target_names=['Negative', 'Neutral', 'Positive']))"
      ],
      "metadata": {
        "colab": {
          "base_uri": "https://localhost:8080/"
        },
        "id": "Wv6hE2SaEOZp",
        "outputId": "b346d827-e5d2-4c47-af6f-0a5116b3d3b3"
      },
      "execution_count": 33,
      "outputs": [
        {
          "output_type": "stream",
          "name": "stdout",
          "text": [
            "Training accuracy  :  0.8704935459377373\n",
            "Test/Validation accuracy :  0.7776967930029155\n",
            "\n",
            " [[2490   89  483]\n",
            " [ 371  722  460]\n",
            " [ 350   77 3190]]\n",
            "              precision    recall  f1-score   support\n",
            "\n",
            "    Negative       0.81      0.78      0.79      3211\n",
            "     Neutral       0.46      0.81      0.59       888\n",
            "    Positive       0.88      0.77      0.82      4133\n",
            "\n",
            "    accuracy                           0.78      8232\n",
            "   macro avg       0.72      0.79      0.74      8232\n",
            "weighted avg       0.81      0.78      0.79      8232\n",
            "\n"
          ]
        }
      ]
    },
    {
      "cell_type": "code",
      "source": [
        "cm_display_sgd = metrics.ConfusionMatrixDisplay(cm_sgd, display_labels = ['-ve', ':-|', '+ve']) # display_labels = [True, False])\n",
        "cm_display_sgd.plot(include_values=True, cmap = 'pink')\n",
        "#cm_display.plot(cmap = 'pink')\n",
        "plt.grid(False)\n",
        "plt.title('Stochastic Gradient Descent Confusion Matrix \\nSentiment Analysis')\n",
        "plt.show()"
      ],
      "metadata": {
        "colab": {
          "base_uri": "https://localhost:8080/",
          "height": 360
        },
        "id": "vLZbQiClKMvo",
        "outputId": "f68cd638-5aa7-4bb6-b066-b827496b3491"
      },
      "execution_count": 34,
      "outputs": [
        {
          "output_type": "display_data",
          "data": {
            "text/plain": [
              "<Figure size 432x288 with 2 Axes>"
            ],
            "image/png": "[encoded data removed]"
          },
          "metadata": {}
        }
      ]
    },
    {
      "cell_type": "markdown",
      "source": [
        "## 4. Extreme Gradient Boosting Classifier - XGBoost\n",
        "Extreme Gradient Boosting - XGBoost Classifier is a type of XGBoost algorithm for binary classification problems, where the target variable can take only two values, such as \"yes\" or \"no\", \"positive\" or \"negative\". It uses decision trees as its base learners and builds a group of these decision trees to make predictions\n"
      ],
      "metadata": {
        "id": "hrhEs2n3Ugs1"
      }
    },
    {
      "cell_type": "code",
      "source": [
        "model_xgboost = xgb.XGBClassifier()\n",
        "\n",
        "model_xgboost.fit(X_train, y_train)\n",
        "\n",
        "xgb_prediction = model_xgboost.predict(X_test)\n",
        "xgb_accuracy = accuracy_score(y_test,xgb_prediction)\n",
        "print(\"Training accuracy : \",model_xgboost.score(X_train,y_train))\n",
        "print(\"Test/Validation accuracy : \",xgb_accuracy )\n",
        "\n",
        "# Confusion matrix\n",
        "cm_xgb = confusion_matrix(y_test, xgb_prediction) # labels=[1,0])\n",
        "#print('\\n[[ TP FP]')\n",
        "#print('[ FN TN]]')\n",
        "print('\\n',cm_xgb)\n",
        "\n",
        "print(classification_report(xgb_prediction,y_test, target_names=['Negative', 'Neutral', 'Positive']))"
      ],
      "metadata": {
        "colab": {
          "base_uri": "https://localhost:8080/"
        },
        "id": "cUK8YBc5Kb7K",
        "outputId": "a10d124f-3d29-4c91-e779-c07f85541901"
      },
      "execution_count": 35,
      "outputs": [
        {
          "output_type": "stream",
          "name": "stdout",
          "text": [
            "Training accuracy :  0.6456795747911921\n",
            "Test/Validation accuracy :  0.6381195335276968\n",
            "\n",
            " [[1836  159 1067]\n",
            " [ 264  426  863]\n",
            " [ 484  142 2991]]\n",
            "              precision    recall  f1-score   support\n",
            "\n",
            "    Negative       0.60      0.71      0.65      2584\n",
            "     Neutral       0.27      0.59      0.37       727\n",
            "    Positive       0.83      0.61      0.70      4921\n",
            "\n",
            "    accuracy                           0.64      8232\n",
            "   macro avg       0.57      0.63      0.57      8232\n",
            "weighted avg       0.71      0.64      0.66      8232\n",
            "\n"
          ]
        }
      ]
    },
    {
      "cell_type": "code",
      "source": [
        "cm_display_xgb = metrics.ConfusionMatrixDisplay(cm_xgb, display_labels = ['-ve', ':-|', '+ve']) # display_labels = [True, False])\n",
        "cm_display_xgb.plot(include_values=True, cmap = 'pink')\n",
        "plt.grid(False)\n",
        "plt.title('Extreme Gradient Boosting Confusion Matrix \\nSentiment Analysis')\n",
        "plt.show()"
      ],
      "metadata": {
        "colab": {
          "base_uri": "https://localhost:8080/",
          "height": 360
        },
        "id": "etprkS3kKb33",
        "outputId": "3809705f-c2a9-4922-8b8b-c5ee18a1305d"
      },
      "execution_count": 36,
      "outputs": [
        {
          "output_type": "display_data",
          "data": {
            "text/plain": [
              "<Figure size 432x288 with 2 Axes>"
            ],
            "image/png": "[encoded data removed]"
          },
          "metadata": {}
        }
      ]
    },
    {
      "cell_type": "markdown",
      "source": [
        "## 5. Logistic Regression Classifier\n",
        "The logistic regression classifier model is also another commonly used machine learning model used for classifying data into two distinct categories such as \"yes\" or \"no\", or \"positive\" or \"negative\". This makes it well-suited for analyzing binary data and making binary predictions."
      ],
      "metadata": {
        "id": "T6RuKYJUUnbo"
      }
    },
    {
      "cell_type": "code",
      "source": [
        "model_logreg = LogisticRegression()\n",
        "\n",
        "model_logreg.fit(X_train, y_train)\n",
        "\n",
        "logreg_prediction = model_logreg.predict(X_test)\n",
        "logreg_accuracy = accuracy_score(y_test,logreg_prediction)\n",
        "print(\"Training accuracy : \",model_logreg.score(X_train,y_train))\n",
        "print(\"Test/Validation accuracy : \",logreg_accuracy)\n",
        "\n",
        "# Confusion matrix\n",
        "cm_logreg = confusion_matrix(y_test, logreg_prediction) # labels=[1,0])\n",
        "#print('\\n[[ TP FP]')\n",
        "#print('[ FN TN]]')\n",
        "print('\\n',cm_logreg)\n",
        "\n",
        "print(classification_report(logreg_prediction,y_test, target_names=['Negative', 'Neutral', 'Positive']))"
      ],
      "metadata": {
        "colab": {
          "base_uri": "https://localhost:8080/"
        },
        "id": "Lp2efotpKb19",
        "outputId": "246662e6-757c-4ee0-8d08-fdf1db8eedcb"
      },
      "execution_count": 37,
      "outputs": [
        {
          "output_type": "stream",
          "name": "stdout",
          "text": [
            "Training accuracy :  0.9025360668185269\n",
            "Test/Validation accuracy :  0.7874149659863946\n",
            "\n",
            " [[2462  178  422]\n",
            " [ 311  891  351]\n",
            " [ 346  142 3129]]\n",
            "              precision    recall  f1-score   support\n",
            "\n",
            "    Negative       0.80      0.79      0.80      3119\n",
            "     Neutral       0.57      0.74      0.64      1211\n",
            "    Positive       0.87      0.80      0.83      3902\n",
            "\n",
            "    accuracy                           0.79      8232\n",
            "   macro avg       0.75      0.78      0.76      8232\n",
            "weighted avg       0.80      0.79      0.79      8232\n",
            "\n"
          ]
        },
        {
          "output_type": "stream",
          "name": "stderr",
          "text": [
            "/usr/local/lib/python3.8/dist-packages/sklearn/linear_model/_logistic.py:814: ConvergenceWarning:\n",
            "\n",
            "lbfgs failed to converge (status=1):\n",
            "STOP: TOTAL NO. of ITERATIONS REACHED LIMIT.\n",
            "\n",
            "Increase the number of iterations (max_iter) or scale the data as shown in:\n",
            "    https://scikit-learn.org/stable/modules/preprocessing.html\n",
            "Please also refer to the documentation for alternative solver options:\n",
            "    https://scikit-learn.org/stable/modules/linear_model.html#logistic-regression\n",
            "\n"
          ]
        }
      ]
    },
    {
      "cell_type": "code",
      "source": [
        "cm_display_logreg = metrics.ConfusionMatrixDisplay(cm_logreg, display_labels = ['-ve', ':-|', '+ve']) # display_labels = [True, False])\n",
        "cm_display_logreg.plot(include_values=True, cmap = 'pink')\n",
        "plt.grid(False)\n",
        "plt.title('Logistic Regression Confusion Matrix \\nSentiment Analysis')\n",
        "plt.show()"
      ],
      "metadata": {
        "colab": {
          "base_uri": "https://localhost:8080/",
          "height": 360
        },
        "id": "hsBLcOdEKb0C",
        "outputId": "08ce255c-497a-49de-b4f7-382f2caab385"
      },
      "execution_count": 38,
      "outputs": [
        {
          "output_type": "display_data",
          "data": {
            "text/plain": [
              "<Figure size 432x288 with 2 Axes>"
            ],
            "image/png": "[encoded data removed]"
          },
          "metadata": {}
        }
      ]
    },
    {
      "cell_type": "markdown",
      "source": [
        "## 6. Support Vector Machine Classifier\n",
        "Support Vector Machine (SVM) is a powerful machine learning method for classification problems, which finds the optimal boundary to separate the data into different classes by maximizing the margin between the classes."
      ],
      "metadata": {
        "id": "mdi3LFPoU4Qz"
      }
    },
    {
      "cell_type": "code",
      "source": [
        "model_svc = SVC()   # ran over 20-min to complete\n",
        "\n",
        "model_svc.fit(X_train, y_train)\n",
        "\n",
        "svc_prediction = model_svc.predict(X_test)\n",
        "svc_accuracy = accuracy_score(y_test,svc_prediction)\n",
        "print(\"Training accuracy : \",model_svc.score(X_train,y_train))\n",
        "print(\"Test/Validation accuracy : \",svc_accuracy)\n",
        "\n",
        "# Confusion matrix\n",
        "cm_svc = confusion_matrix(y_test, svc_prediction) # labels=[1,0])\n",
        "#print('\\n[[ TP FP]')\n",
        "#print('[ FN TN]]')\n",
        "print('\\n',cm_svc)\n",
        "\n",
        "print(classification_report(svc_prediction,y_test, target_names=['Negative', 'Neutral', 'Positive']))"
      ],
      "metadata": {
        "colab": {
          "base_uri": "https://localhost:8080/"
        },
        "id": "fneejfHbj72u",
        "outputId": "bbfae412-f556-43a6-a2e9-da79b7c7da99"
      },
      "execution_count": 39,
      "outputs": [
        {
          "output_type": "stream",
          "name": "stdout",
          "text": [
            "Training accuracy :  0.9786788154897494\n",
            "Test/Validation accuracy :  0.7776967930029155\n",
            "\n",
            " [[2458  159  445]\n",
            " [ 339  847  367]\n",
            " [ 390  130 3097]]\n",
            "              precision    recall  f1-score   support\n",
            "\n",
            "    Negative       0.80      0.77      0.79      3187\n",
            "     Neutral       0.55      0.75      0.63      1136\n",
            "    Positive       0.86      0.79      0.82      3909\n",
            "\n",
            "    accuracy                           0.78      8232\n",
            "   macro avg       0.73      0.77      0.75      8232\n",
            "weighted avg       0.79      0.78      0.78      8232\n",
            "\n"
          ]
        }
      ]
    },
    {
      "cell_type": "code",
      "source": [
        "cm_display_svc = metrics.ConfusionMatrixDisplay(cm_svc, display_labels = ['-ve', ':-|', '+ve']) # display_labels = [True, False])\n",
        "cm_display_svc.plot(include_values=True, cmap = 'pink')\n",
        "plt.grid(False)\n",
        "plt.title('Support Vector Machine Confusion Matrix \\nSentiment Analysis')\n",
        "plt.show()"
      ],
      "metadata": {
        "colab": {
          "base_uri": "https://localhost:8080/",
          "height": 360
        },
        "id": "gOVvu5p5L_sP",
        "outputId": "3b4eb24c-034e-4571-c6f0-1b925e2186ec"
      },
      "execution_count": 40,
      "outputs": [
        {
          "output_type": "display_data",
          "data": {
            "text/plain": [
              "<Figure size 432x288 with 2 Axes>"
            ],
            "image/png": "[encoded data removed]"
          },
          "metadata": {}
        }
      ]
    },
    {
      "cell_type": "markdown",
      "source": [
        "## 7. Linear Support Vector Machine Classifier\n",
        "Linear Support Vector Machine (SVM) Classifier is a type of SVM algorithm used for linear binary classification problems, where the data is separated into different classes using a linear boundary (or hyperplane) with the maximum margin."
      ],
      "metadata": {
        "id": "96nGtFM0VAmk"
      }
    },
    {
      "cell_type": "code",
      "source": [
        "model_linear_svc = LinearSVC()\n",
        "\n",
        "model_linear_svc.fit(X_train, y_train)\n",
        "\n",
        "lsvc_prediction = model_linear_svc.predict(X_test)\n",
        "lsvc_accuracy = accuracy_score(y_test,lsvc_prediction)\n",
        "print(\"Training accuracy : \",model_linear_svc.score(X_train,y_train))\n",
        "print(\"Test/Validation accuracy : \",lsvc_accuracy)\n",
        "\n",
        "# Confusion matrix\n",
        "cm_lsvc = confusion_matrix(y_test, lsvc_prediction) # labels=[1,0])\n",
        "#print('\\n[[ TP FP]')\n",
        "#print('[ FN TN]]')\n",
        "print('\\n',cm_lsvc)\n",
        "\n",
        "print(classification_report(lsvc_prediction,y_test,target_names=['Negative', 'Neutral', 'Positive']))"
      ],
      "metadata": {
        "colab": {
          "base_uri": "https://localhost:8080/"
        },
        "id": "zomuXZAwL_ov",
        "outputId": "345c91de-21cc-4355-9b7d-bf21e9639e56"
      },
      "execution_count": 41,
      "outputs": [
        {
          "output_type": "stream",
          "name": "stdout",
          "text": [
            "Training accuracy :  0.9705087319665907\n",
            "Test/Validation accuracy :  0.7993197278911565\n",
            "\n",
            " [[2491  184  387]\n",
            " [ 263  986  304]\n",
            " [ 319  195 3103]]\n",
            "              precision    recall  f1-score   support\n",
            "\n",
            "    Negative       0.81      0.81      0.81      3073\n",
            "     Neutral       0.63      0.72      0.68      1365\n",
            "    Positive       0.86      0.82      0.84      3794\n",
            "\n",
            "    accuracy                           0.80      8232\n",
            "   macro avg       0.77      0.78      0.78      8232\n",
            "weighted avg       0.80      0.80      0.80      8232\n",
            "\n"
          ]
        }
      ]
    },
    {
      "cell_type": "code",
      "source": [
        "cm_display_lsvc = metrics.ConfusionMatrixDisplay(cm_lsvc, display_labels = ['-ve', ':-|', '+ve']) # display_labels = [True, False])\n",
        "cm_display_lsvc.plot(include_values=True, cmap = 'pink')\n",
        "plt.grid(False)\n",
        "plt.title('Linear Support Vector Machine Confusion Matrix \\nSentiment Analysis')\n",
        "plt.show()"
      ],
      "metadata": {
        "colab": {
          "base_uri": "https://localhost:8080/",
          "height": 360
        },
        "id": "f0sL6HT4SKEt",
        "outputId": "085cdc7f-727f-4e77-e638-5f9e3c0181ba"
      },
      "execution_count": 42,
      "outputs": [
        {
          "output_type": "display_data",
          "data": {
            "text/plain": [
              "<Figure size 432x288 with 2 Axes>"
            ],
            "image/png": "[encoded data removed]"
          },
          "metadata": {}
        }
      ]
    },
    {
      "cell_type": "markdown",
      "source": [
        "# Model Accuracy Comparison\n",
        "Now, lets compare and visualize above models for more better understanding. "
      ],
      "metadata": {
        "id": "ap_k6zMeNZHX"
      }
    },
    {
      "cell_type": "code",
      "source": [
        "# set width of bars\n",
        "barWidth = 0.25\n",
        " \n",
        "# set heights of bars\n",
        "bars1 = [0.99, 0.73, 0.87, 0.64, 0.90, 0.97, 0.97]\n",
        "bars2 = [0.74, 0.64, 0.77, 0.63, 0.78, 0.77, 0.79]\n",
        " \n",
        "# Set position of bar on X axis\n",
        "r1 = np.arange(len(bars1))\n",
        "r2 = [x + barWidth for x in r1]\n",
        " \n",
        "plt.figure(figsize=(12,10))\n",
        "# Make the plot\n",
        "plt.bar(r1, bars1, color='#7f6d5f', width=barWidth, edgecolor='white', label='Train')\n",
        "plt.bar(r2, bars2, color='#557f2d', width=barWidth, edgecolor='white', label='Test')\n",
        " \n",
        "# Add xticks on the middle of the group bars\n",
        "plt.xlabel('Machine Learning Models', size = 20)\n",
        "plt.xticks([r + barWidth for r in range(len(bars1))], ['RF', 'NB', 'SGD', 'XGB', 'LR','SVM','LSVM'])\n",
        "plt.title('Models Accuracy Comparison', size = 36)\n",
        " \n",
        "# Create legend & Show graphic\n",
        "\n",
        "plt.legend()\n",
        "plt.show()"
      ],
      "metadata": {
        "colab": {
          "base_uri": "https://localhost:8080/",
          "height": 660
        },
        "id": "OgRSakaQgYNN",
        "outputId": "3a0b8a1b-cf08-4631-fbf1-11ee7a345491"
      },
      "execution_count": 43,
      "outputs": [
        {
          "output_type": "display_data",
          "data": {
            "text/plain": [
              "<Figure size 864x720 with 1 Axes>"
            ],
            "image/png": "[encoded data removed]"
          },
          "metadata": {}
        }
      ]
    },
    {
      "cell_type": "markdown",
      "source": [
        "Comparison plot show the `XGB - Extreme gradient boosting classifier` performs the best with accuracy of `0.64` and `0.63` for training and testing data. `Random forest classifer` accuray is very low.\n",
        "\n",
        "Now let's tune the random forest classifier and see if the accuracy gets any better."
      ],
      "metadata": {
        "id": "FXtoVXeW0h3q"
      }
    },
    {
      "cell_type": "markdown",
      "source": [
        "## Hyperparameter tuning\n",
        "`GridSearchCV` and `RandomizedSearchCV` are two widely used techniques in Hyperparameter Tuning. Grid Search exhaustively searches through every combination of the hyperparameter values specified. In contrast to Grid Search, not all given parameter values are tried out in Randomized Search. Rather a fixed number of parameter settings is sampled from the specified distributions. \n",
        "\n",
        "In this project, we are using RandomizedSearchCV only to tune the random forest classifier."
      ],
      "metadata": {
        "id": "iyYBQwiyvDBF"
      }
    },
    {
      "cell_type": "code",
      "source": [
        "# Define the parameter grid to search\n",
        "param_dist = {\n",
        "\n",
        "    'n_estimators': [50, 200, 500, 1000, 2500],        # no of boosting stages to perform, large no usually result in better performance   # np.arange(50, 200, 500, 1000, 2500))\n",
        "    'max_depth': [3, 5, 9, 15, 25],                 # max depth limits the number of nodes    # np.arange(3, 15)\n",
        "   # 'min_samples_split': np.arange(2, 10),         # min no of samples required to split internal node\n",
        "   # 'min_samples_leaf': np.arange(1, 5),           # min no of samples to be a leaf node\n",
        "    'max_features': ['auto', 'log2']                # no of features to consider when looking for best fit, when 'auto', 'sqrt','log2'=sqrt(n_features), default = (n_features)\n",
        "}\n",
        "\n",
        "# Create a random forest classifier\n",
        "model_random_forest = RandomForestClassifier()\n",
        "\n",
        "# Create the RandomizedSearchCV object\n",
        "random_search = RandomizedSearchCV(estimator=model_random_forest, param_distributions=param_dist, n_iter=100, cv=5, scoring='accuracy', random_state=42)\n",
        "\n",
        "# Fit the RandomizedSearchCV object to the training data\n",
        "random_search.fit(X_train, y_train)\n",
        "\n",
        "# Print the best hyperparameters and the best score\n",
        "print(\"Best parameters: \\n\", random_search.best_params_)\n",
        "print(\"Best accuracy score: \", random_search.best_score_)"
      ],
      "metadata": {
        "id": "W7BK0qLz3ol_",
        "colab": {
          "base_uri": "https://localhost:8080/"
        },
        "outputId": "1a285376-ca60-4d17-fe15-e243fecde300"
      },
      "execution_count": null,
      "outputs": [
        {
          "output_type": "stream",
          "name": "stderr",
          "text": [
            "/usr/local/lib/python3.8/dist-packages/sklearn/model_selection/_search.py:292: UserWarning:\n",
            "\n",
            "The total space of parameters 50 is smaller than n_iter=100. Running 50 iterations. For exhaustive searches, use GridSearchCV.\n",
            "\n"
          ]
        },
        {
          "output_type": "stream",
          "name": "stdout",
          "text": [
            "Best parameters: \n",
            " {'n_estimators': 500, 'max_features': 'auto', 'max_depth': 25}\n",
            "Best accuracy score:  0.5857251328777524\n"
          ]
        }
      ]
    },
    {
      "cell_type": "markdown",
      "source": [
        "The code above perform a random search over the defined parameter distribution for the random forest classifier, using 5-fold cross-validation and accuracy as the evaluation metric. The n_iter parameter defines the number of iterations to perform the random search. The best hyperparameters and the corresponding best accuray score is printed after the search which are, \n",
        "\n",
        "`Best parameters:{'n_estimators': 500, 'max_features': 'auto', 'max_depth': 25}`\n",
        "\n",
        "`Best accuracy score:  0.5857251328777524`"
      ],
      "metadata": {
        "id": "AF32YbCT4IQS"
      }
    },
    {
      "cell_type": "markdown",
      "source": [
        "Here, \n",
        "\n",
        "Accuracy score is `0.58` but previously we got `0.99` accuracy on training, which means Random Forest Classifer may not be the best classifer in our case. "
      ],
      "metadata": {
        "id": "uZ0rv-Exlidf"
      }
    },
    {
      "cell_type": "code",
      "source": [
        "# set width of bars\n",
        "barWidth = 0.25\n",
        " \n",
        "# set heights of bars\n",
        "bars1 = [0.58, 0.73, 0.87, 0.64, 0.90, 0.97, 0.97]\n",
        "bars2 = [0.74, 0.64, 0.77, 0.63, 0.78, 0.77, 0.79]\n",
        " \n",
        "# Set position of bar on X axis\n",
        "r1 = np.arange(len(bars1))\n",
        "r2 = [x + barWidth for x in r1]\n",
        " \n",
        "plt.figure(figsize=(12,10))\n",
        "# Make the plot\n",
        "plt.bar(r1, bars1, color='#7f6d5f', width=barWidth, edgecolor='white', label='Train')\n",
        "plt.bar(r2, bars2, color='#557f2d', width=barWidth, edgecolor='white', label='Test')\n",
        " \n",
        "# Add xticks on the middle of the group bars\n",
        "plt.xlabel('Machine Learning Models', size = 20)\n",
        "plt.xticks([r + barWidth for r in range(len(bars1))], ['RF', 'NB', 'SGD', 'XGB', 'LR','SVM','LSVM'])\n",
        "plt.title('Models Accuracy Comparison after Hyperparameter Tuning', size = 36)\n",
        " \n",
        "# Create legend & Show graphic\n",
        "\n",
        "plt.legend()\n",
        "plt.show()"
      ],
      "metadata": {
        "colab": {
          "base_uri": "https://localhost:8080/",
          "height": 660
        },
        "outputId": "7300aaa1-5649-4409-fbc6-c29d3a40fb09",
        "id": "czEmAErxoVEI"
      },
      "execution_count": 42,
      "outputs": [
        {
          "output_type": "display_data",
          "data": {
            "text/plain": [
              "<Figure size 864x720 with 1 Axes>"
            ],
            "image/png": "[encoded data removed]"
          },
          "metadata": {}
        }
      ]
    },
    {
      "cell_type": "markdown",
      "source": [
        "# Feature Importances\n",
        "Now check the most important features in our dataset"
      ],
      "metadata": {
        "id": "HbdKK-8AtdS6"
      }
    },
    {
      "cell_type": "code",
      "source": [
        "from sklearn.preprocessing import LabelEncoder\n",
        "\n",
        "# Normalize and transform labels between 0 and 1\n",
        "le = LabelEncoder()\n",
        "  \n",
        "# Encode labels in column 'Sentiment'.\n",
        "data_twitter_corona_train['Sentiment'] = le.fit_transform(data_twitter_corona_train['Sentiment'])\n",
        "  \n",
        "data_twitter_corona_train['Sentiment'].unique()"
      ],
      "metadata": {
        "colab": {
          "base_uri": "https://localhost:8080/"
        },
        "id": "KOyr4o2qdmav",
        "outputId": "88553872-55e6-4186-a6ad-0b010464fde5"
      },
      "execution_count": 95,
      "outputs": [
        {
          "output_type": "execute_result",
          "data": {
            "text/plain": [
              "array([1, 2, 0])"
            ]
          },
          "metadata": {},
          "execution_count": 95
        }
      ]
    },
    {
      "cell_type": "code",
      "source": [
        "find_word = 'London'\n",
        "if find_word in data_twitter_corona_train['Sentiment'].values:\n",
        "  print('word found')"
      ],
      "metadata": {
        "id": "SX4d52rTeWkS"
      },
      "execution_count": 94,
      "outputs": []
    },
    {
      "cell_type": "code",
      "source": [
        "# one-hot encode the 'Sentiment' column\n",
        "data_twitter_corona_train = pd.get_dummies(data_twitter_corona_train, columns=['Sentiment'])"
      ],
      "metadata": {
        "id": "ltvrYEhyco9O"
      },
      "execution_count": 65,
      "outputs": []
    },
    {
      "cell_type": "code",
      "source": [
        "from sklearn.ensemble import RandomForestClassifier\n",
        "from sklearn.model_selection import RandomizedSearchCV\n",
        "import pandas as pd\n",
        "\n",
        "# load your data into a pandas dataframe called 'data_twitter_corona_train'\n",
        "# ...\n",
        "\n",
        "# specify the hyperparameters you want to search over\n",
        "param_dist = {'n_estimators': [10] #[100] #, 200, 300],\n",
        "              #'max_depth': [10, 20, 30],\n",
        "              #'min_samples_split': [2, 5, 10]\n",
        "              }\n",
        "\n",
        "# create a RandomForestClassifier object\n",
        "rf = RandomForestClassifier()\n",
        "\n",
        "# create a RandomizedSearchCV object\n",
        "random_search = RandomizedSearchCV(rf, param_distributions=param_dist, n_iter=1, scoring='accuracy', n_jobs=-1, cv=5)\n",
        "\n",
        "# fit the RandomizedSearchCV object to your data\n",
        "random_search.fit(X_train, y_train)\n",
        "#random_search.fit(data_twitter_corona_train.drop('text', axis=1), data_twitter_corona_train['text'])\n",
        "\n",
        "# calculate feature importances\n",
        "feature_results = pd.DataFrame({'feature': list(data_twitter_corona_train.drop('Sentiment', axis=1).columns),\n",
        "                                'importance': random_search.best_estimator_.feature_importances_})\n"
      ],
      "metadata": {
        "id": "5McAK-7ba1-0"
      },
      "execution_count": null,
      "outputs": []
    },
    {
      "cell_type": "code",
      "source": [
        "# Extract the feature importances into a dataframe\n",
        "\n",
        "#feature_results = pd.DataFrame({'feature': list(data_twitter_corona_train.drop('Sentiment', axis=1).columns),\n",
        " #                               'importance': random_search.best_estimator_.feature_importances_})\n",
        "\n",
        "\n",
        "#feature_results = pd.DataFrame({'feature': list(data_twitter_corona_train['Sentiment']), \n",
        "#                                'importance': random_search.feature_importances_})\n",
        "\n",
        "# Show the most important features\n",
        "#feature_results = feature_results.sort_values('importance', ascending = False).reset_index(drop=True)\n",
        "\n",
        "\n",
        "feature_results = feature_results.sort_values('feature', ascending = True).reset_index(drop=True)\n",
        "\n",
        "\n",
        "feature_results.head(10)"
      ],
      "metadata": {
        "colab": {
          "base_uri": "https://localhost:8080/",
          "height": 331
        },
        "id": "cINsCxIUoq1s",
        "outputId": "725994c6-1540-4f2a-9d8f-bdcfa2e5bb6f"
      },
      "execution_count": 103,
      "outputs": [
        {
          "output_type": "execute_result",
          "data": {
            "text/plain": [
              "         feature\n",
              "0       Location\n",
              "1  OriginalTweet\n",
              "2     ScreenName\n",
              "3      Sentiment\n",
              "4        TweetAt\n",
              "5       UserName\n",
              "6     clean_text\n",
              "7     final_text\n",
              "8           text"
            ],
            "text/html": [
              "\n",
              "  <div id=\"df-65b11a5f-cf80-46fe-8150-3eab4559ff9f\">\n",
              "    <div class=\"colab-df-container\">\n",
              "      <div>\n",
              "<style scoped>\n",
              "    .dataframe tbody tr th:only-of-type {\n",
              "        vertical-align: middle;\n",
              "    }\n",
              "\n",
              "    .dataframe tbody tr th {\n",
              "        vertical-align: top;\n",
              "    }\n",
              "\n",
              "    .dataframe thead th {\n",
              "        text-align: right;\n",
              "    }\n",
              "</style>\n",
              "<table border=\"1\" class=\"dataframe\">\n",
              "  <thead>\n",
              "    <tr style=\"text-align: right;\">\n",
              "      <th></th>\n",
              "      <th>feature</th>\n",
              "    </tr>\n",
              "  </thead>\n",
              "  <tbody>\n",
              "    <tr>\n",
              "      <th>0</th>\n",
              "      <td>Location</td>\n",
              "    </tr>\n",
              "    <tr>\n",
              "      <th>1</th>\n",
              "      <td>OriginalTweet</td>\n",
              "    </tr>\n",
              "    <tr>\n",
              "      <th>2</th>\n",
              "      <td>ScreenName</td>\n",
              "    </tr>\n",
              "    <tr>\n",
              "      <th>3</th>\n",
              "      <td>Sentiment</td>\n",
              "    </tr>\n",
              "    <tr>\n",
              "      <th>4</th>\n",
              "      <td>TweetAt</td>\n",
              "    </tr>\n",
              "    <tr>\n",
              "      <th>5</th>\n",
              "      <td>UserName</td>\n",
              "    </tr>\n",
              "    <tr>\n",
              "      <th>6</th>\n",
              "      <td>clean_text</td>\n",
              "    </tr>\n",
              "    <tr>\n",
              "      <th>7</th>\n",
              "      <td>final_text</td>\n",
              "    </tr>\n",
              "    <tr>\n",
              "      <th>8</th>\n",
              "      <td>text</td>\n",
              "    </tr>\n",
              "  </tbody>\n",
              "</table>\n",
              "</div>\n",
              "      <button class=\"colab-df-convert\" onclick=\"convertToInteractive('df-65b11a5f-cf80-46fe-8150-3eab4559ff9f')\"\n",
              "              title=\"Convert this dataframe to an interactive table.\"\n",
              "              style=\"display:none;\">\n",
              "        \n",
              "  <svg xmlns=\"http://www.w3.org/2000/svg\" height=\"24px\"viewBox=\"0 0 24 24\"\n",
              "       width=\"24px\">\n",
              "    <path d=\"M0 0h24v24H0V0z\" fill=\"none\"/>\n",
              "    <path d=\"M18.56 5.44l.94 2.06.94-2.06 2.06-.94-2.06-.94-.94-2.06-.94 2.06-2.06.94zm-11 1L8.5 8.5l.94-2.06 2.06-.94-2.06-.94L8.5 2.5l-.94 2.06-2.06.94zm10 10l.94 2.06.94-2.06 2.06-.94-2.06-.94-.94-2.06-.94 2.06-2.06.94z\"/><path d=\"M17.41 7.96l-1.37-1.37c-.4-.4-.92-.59-1.43-.59-.52 0-1.04.2-1.43.59L10.3 9.45l-7.72 7.72c-.78.78-.78 2.05 0 2.83L4 21.41c.39.39.9.59 1.41.59.51 0 1.02-.2 1.41-.59l7.78-7.78 2.81-2.81c.8-.78.8-2.07 0-2.86zM5.41 20L4 18.59l7.72-7.72 1.47 1.35L5.41 20z\"/>\n",
              "  </svg>\n",
              "      </button>\n",
              "      \n",
              "  <style>\n",
              "    .colab-df-container {\n",
              "      display:flex;\n",
              "      flex-wrap:wrap;\n",
              "      gap: 12px;\n",
              "    }\n",
              "\n",
              "    .colab-df-convert {\n",
              "      background-color: #E8F0FE;\n",
              "      border: none;\n",
              "      border-radius: 50%;\n",
              "      cursor: pointer;\n",
              "      display: none;\n",
              "      fill: #1967D2;\n",
              "      height: 32px;\n",
              "      padding: 0 0 0 0;\n",
              "      width: 32px;\n",
              "    }\n",
              "\n",
              "    .colab-df-convert:hover {\n",
              "      background-color: #E2EBFA;\n",
              "      box-shadow: 0px 1px 2px rgba(60, 64, 67, 0.3), 0px 1px 3px 1px rgba(60, 64, 67, 0.15);\n",
              "      fill: #174EA6;\n",
              "    }\n",
              "\n",
              "    [theme=dark] .colab-df-convert {\n",
              "      background-color: #3B4455;\n",
              "      fill: #D2E3FC;\n",
              "    }\n",
              "\n",
              "    [theme=dark] .colab-df-convert:hover {\n",
              "      background-color: #434B5C;\n",
              "      box-shadow: 0px 1px 3px 1px rgba(0, 0, 0, 0.15);\n",
              "      filter: drop-shadow(0px 1px 2px rgba(0, 0, 0, 0.3));\n",
              "      fill: #FFFFFF;\n",
              "    }\n",
              "  </style>\n",
              "\n",
              "      <script>\n",
              "        const buttonEl =\n",
              "          document.querySelector('#df-65b11a5f-cf80-46fe-8150-3eab4559ff9f button.colab-df-convert');\n",
              "        buttonEl.style.display =\n",
              "          google.colab.kernel.accessAllowed ? 'block' : 'none';\n",
              "\n",
              "        async function convertToInteractive(key) {\n",
              "          const element = document.querySelector('#df-65b11a5f-cf80-46fe-8150-3eab4559ff9f');\n",
              "          const dataTable =\n",
              "            await google.colab.kernel.invokeFunction('convertToInteractive',\n",
              "                                                     [key], {});\n",
              "          if (!dataTable) return;\n",
              "\n",
              "          const docLinkHtml = 'Like what you see? Visit the ' +\n",
              "            '<a target=\"_blank\" href=https://colab.research.google.com/notebooks/data_table.ipynb>data table notebook</a>'\n",
              "            + ' to learn more about interactive tables.';\n",
              "          element.innerHTML = '';\n",
              "          dataTable['output_type'] = 'display_data';\n",
              "          await google.colab.output.renderOutput(dataTable, element);\n",
              "          const docLink = document.createElement('div');\n",
              "          docLink.innerHTML = docLinkHtml;\n",
              "          element.appendChild(docLink);\n",
              "        }\n",
              "      </script>\n",
              "    </div>\n",
              "  </div>\n",
              "  "
            ]
          },
          "metadata": {},
          "execution_count": 103
        }
      ]
    },
    {
      "cell_type": "code",
      "source": [
        "# Random Forest chooses the optimum split while Extra Trees chooses it randomly\n",
        "\n",
        "from sklearn.ensemble import ExtraTreesClassifier\n",
        "extr = ExtraTreesClassifier()\n",
        "extr.fit(X_train,y_train)"
      ],
      "metadata": {
        "colab": {
          "base_uri": "https://localhost:8080/"
        },
        "id": "O3ry5xIpwlCf",
        "outputId": "4a8e4ab7-6766-4b0d-a9ba-4230f5ed442c"
      },
      "execution_count": 113,
      "outputs": [
        {
          "output_type": "execute_result",
          "data": {
            "text/plain": [
              "ExtraTreesClassifier()"
            ]
          },
          "metadata": {},
          "execution_count": 113
        }
      ]
    },
    {
      "cell_type": "code",
      "source": [
        "feature_importance = extr.feature_importances_\n",
        "feature_importance"
      ],
      "metadata": {
        "colab": {
          "base_uri": "https://localhost:8080/"
        },
        "id": "AGlpuXGtwk-h",
        "outputId": "2b2fc60a-1f2e-43da-fef9-acad795b4274"
      },
      "execution_count": 114,
      "outputs": [
        {
          "output_type": "execute_result",
          "data": {
            "text/plain": [
              "array([3.42441187e-07, 7.17407691e-06, 8.11090770e-07, ...,\n",
              "       7.00743507e-09, 6.61832025e-10, 6.83807083e-06])"
            ]
          },
          "metadata": {},
          "execution_count": 114
        }
      ]
    },
    {
      "cell_type": "code",
      "source": [
        "imp = pd.DataFrame(feature_importance, columns =['Gain_Score'])\n",
        "imp"
      ],
      "metadata": {
        "colab": {
          "base_uri": "https://localhost:8080/",
          "height": 423
        },
        "id": "3acfHD6Sw-Dp",
        "outputId": "362edc68-33ca-488c-8a62-7687dc31f2a1"
      },
      "execution_count": 115,
      "outputs": [
        {
          "output_type": "execute_result",
          "data": {
            "text/plain": [
              "         Gain_Score\n",
              "0      3.424412e-07\n",
              "1      7.174077e-06\n",
              "2      8.110908e-07\n",
              "3      1.829644e-07\n",
              "4      6.376677e-08\n",
              "...             ...\n",
              "46046  2.278259e-07\n",
              "46047  0.000000e+00\n",
              "46048  7.007435e-09\n",
              "46049  6.618320e-10\n",
              "46050  6.838071e-06\n",
              "\n",
              "[46051 rows x 1 columns]"
            ],
            "text/html": [
              "\n",
              "  <div id=\"df-d7848d15-8254-4bcc-8f82-1e216dcc53aa\">\n",
              "    <div class=\"colab-df-container\">\n",
              "      <div>\n",
              "<style scoped>\n",
              "    .dataframe tbody tr th:only-of-type {\n",
              "        vertical-align: middle;\n",
              "    }\n",
              "\n",
              "    .dataframe tbody tr th {\n",
              "        vertical-align: top;\n",
              "    }\n",
              "\n",
              "    .dataframe thead th {\n",
              "        text-align: right;\n",
              "    }\n",
              "</style>\n",
              "<table border=\"1\" class=\"dataframe\">\n",
              "  <thead>\n",
              "    <tr style=\"text-align: right;\">\n",
              "      <th></th>\n",
              "      <th>Gain_Score</th>\n",
              "    </tr>\n",
              "  </thead>\n",
              "  <tbody>\n",
              "    <tr>\n",
              "      <th>0</th>\n",
              "      <td>3.424412e-07</td>\n",
              "    </tr>\n",
              "    <tr>\n",
              "      <th>1</th>\n",
              "      <td>7.174077e-06</td>\n",
              "    </tr>\n",
              "    <tr>\n",
              "      <th>2</th>\n",
              "      <td>8.110908e-07</td>\n",
              "    </tr>\n",
              "    <tr>\n",
              "      <th>3</th>\n",
              "      <td>1.829644e-07</td>\n",
              "    </tr>\n",
              "    <tr>\n",
              "      <th>4</th>\n",
              "      <td>6.376677e-08</td>\n",
              "    </tr>\n",
              "    <tr>\n",
              "      <th>...</th>\n",
              "      <td>...</td>\n",
              "    </tr>\n",
              "    <tr>\n",
              "      <th>46046</th>\n",
              "      <td>2.278259e-07</td>\n",
              "    </tr>\n",
              "    <tr>\n",
              "      <th>46047</th>\n",
              "      <td>0.000000e+00</td>\n",
              "    </tr>\n",
              "    <tr>\n",
              "      <th>46048</th>\n",
              "      <td>7.007435e-09</td>\n",
              "    </tr>\n",
              "    <tr>\n",
              "      <th>46049</th>\n",
              "      <td>6.618320e-10</td>\n",
              "    </tr>\n",
              "    <tr>\n",
              "      <th>46050</th>\n",
              "      <td>6.838071e-06</td>\n",
              "    </tr>\n",
              "  </tbody>\n",
              "</table>\n",
              "<p>46051 rows × 1 columns</p>\n",
              "</div>\n",
              "      <button class=\"colab-df-convert\" onclick=\"convertToInteractive('df-d7848d15-8254-4bcc-8f82-1e216dcc53aa')\"\n",
              "              title=\"Convert this dataframe to an interactive table.\"\n",
              "              style=\"display:none;\">\n",
              "        \n",
              "  <svg xmlns=\"http://www.w3.org/2000/svg\" height=\"24px\"viewBox=\"0 0 24 24\"\n",
              "       width=\"24px\">\n",
              "    <path d=\"M0 0h24v24H0V0z\" fill=\"none\"/>\n",
              "    <path d=\"M18.56 5.44l.94 2.06.94-2.06 2.06-.94-2.06-.94-.94-2.06-.94 2.06-2.06.94zm-11 1L8.5 8.5l.94-2.06 2.06-.94-2.06-.94L8.5 2.5l-.94 2.06-2.06.94zm10 10l.94 2.06.94-2.06 2.06-.94-2.06-.94-.94-2.06-.94 2.06-2.06.94z\"/><path d=\"M17.41 7.96l-1.37-1.37c-.4-.4-.92-.59-1.43-.59-.52 0-1.04.2-1.43.59L10.3 9.45l-7.72 7.72c-.78.78-.78 2.05 0 2.83L4 21.41c.39.39.9.59 1.41.59.51 0 1.02-.2 1.41-.59l7.78-7.78 2.81-2.81c.8-.78.8-2.07 0-2.86zM5.41 20L4 18.59l7.72-7.72 1.47 1.35L5.41 20z\"/>\n",
              "  </svg>\n",
              "      </button>\n",
              "      \n",
              "  <style>\n",
              "    .colab-df-container {\n",
              "      display:flex;\n",
              "      flex-wrap:wrap;\n",
              "      gap: 12px;\n",
              "    }\n",
              "\n",
              "    .colab-df-convert {\n",
              "      background-color: #E8F0FE;\n",
              "      border: none;\n",
              "      border-radius: 50%;\n",
              "      cursor: pointer;\n",
              "      display: none;\n",
              "      fill: #1967D2;\n",
              "      height: 32px;\n",
              "      padding: 0 0 0 0;\n",
              "      width: 32px;\n",
              "    }\n",
              "\n",
              "    .colab-df-convert:hover {\n",
              "      background-color: #E2EBFA;\n",
              "      box-shadow: 0px 1px 2px rgba(60, 64, 67, 0.3), 0px 1px 3px 1px rgba(60, 64, 67, 0.15);\n",
              "      fill: #174EA6;\n",
              "    }\n",
              "\n",
              "    [theme=dark] .colab-df-convert {\n",
              "      background-color: #3B4455;\n",
              "      fill: #D2E3FC;\n",
              "    }\n",
              "\n",
              "    [theme=dark] .colab-df-convert:hover {\n",
              "      background-color: #434B5C;\n",
              "      box-shadow: 0px 1px 3px 1px rgba(0, 0, 0, 0.15);\n",
              "      filter: drop-shadow(0px 1px 2px rgba(0, 0, 0, 0.3));\n",
              "      fill: #FFFFFF;\n",
              "    }\n",
              "  </style>\n",
              "\n",
              "      <script>\n",
              "        const buttonEl =\n",
              "          document.querySelector('#df-d7848d15-8254-4bcc-8f82-1e216dcc53aa button.colab-df-convert');\n",
              "        buttonEl.style.display =\n",
              "          google.colab.kernel.accessAllowed ? 'block' : 'none';\n",
              "\n",
              "        async function convertToInteractive(key) {\n",
              "          const element = document.querySelector('#df-d7848d15-8254-4bcc-8f82-1e216dcc53aa');\n",
              "          const dataTable =\n",
              "            await google.colab.kernel.invokeFunction('convertToInteractive',\n",
              "                                                     [key], {});\n",
              "          if (!dataTable) return;\n",
              "\n",
              "          const docLinkHtml = 'Like what you see? Visit the ' +\n",
              "            '<a target=\"_blank\" href=https://colab.research.google.com/notebooks/data_table.ipynb>data table notebook</a>'\n",
              "            + ' to learn more about interactive tables.';\n",
              "          element.innerHTML = '';\n",
              "          dataTable['output_type'] = 'display_data';\n",
              "          await google.colab.output.renderOutput(dataTable, element);\n",
              "          const docLink = document.createElement('div');\n",
              "          docLink.innerHTML = docLinkHtml;\n",
              "          element.appendChild(docLink);\n",
              "        }\n",
              "      </script>\n",
              "    </div>\n",
              "  </div>\n",
              "  "
            ]
          },
          "metadata": {},
          "execution_count": 115
        }
      ]
    },
    {
      "cell_type": "code",
      "source": [
        "gains = pd.concat([feature_results, imp],axis =1)\n",
        "gains.head(10)"
      ],
      "metadata": {
        "colab": {
          "base_uri": "https://localhost:8080/",
          "height": 363
        },
        "id": "v08fw1pzw-AK",
        "outputId": "044be71a-7efc-491f-ec2e-a8d3485a48a3"
      },
      "execution_count": 116,
      "outputs": [
        {
          "output_type": "execute_result",
          "data": {
            "text/plain": [
              "         feature    Gain_Score\n",
              "0       Location  3.424412e-07\n",
              "1  OriginalTweet  7.174077e-06\n",
              "2     ScreenName  8.110908e-07\n",
              "3      Sentiment  1.829644e-07\n",
              "4        TweetAt  6.376677e-08\n",
              "5       UserName  1.285435e-06\n",
              "6     clean_text  3.638496e-06\n",
              "7     final_text  3.639022e-06\n",
              "8           text  1.841894e-06\n",
              "9            NaN  3.311695e-06"
            ],
            "text/html": [
              "\n",
              "  <div id=\"df-be18b46a-1751-4332-b349-c65515d7f484\">\n",
              "    <div class=\"colab-df-container\">\n",
              "      <div>\n",
              "<style scoped>\n",
              "    .dataframe tbody tr th:only-of-type {\n",
              "        vertical-align: middle;\n",
              "    }\n",
              "\n",
              "    .dataframe tbody tr th {\n",
              "        vertical-align: top;\n",
              "    }\n",
              "\n",
              "    .dataframe thead th {\n",
              "        text-align: right;\n",
              "    }\n",
              "</style>\n",
              "<table border=\"1\" class=\"dataframe\">\n",
              "  <thead>\n",
              "    <tr style=\"text-align: right;\">\n",
              "      <th></th>\n",
              "      <th>feature</th>\n",
              "      <th>Gain_Score</th>\n",
              "    </tr>\n",
              "  </thead>\n",
              "  <tbody>\n",
              "    <tr>\n",
              "      <th>0</th>\n",
              "      <td>Location</td>\n",
              "      <td>3.424412e-07</td>\n",
              "    </tr>\n",
              "    <tr>\n",
              "      <th>1</th>\n",
              "      <td>OriginalTweet</td>\n",
              "      <td>7.174077e-06</td>\n",
              "    </tr>\n",
              "    <tr>\n",
              "      <th>2</th>\n",
              "      <td>ScreenName</td>\n",
              "      <td>8.110908e-07</td>\n",
              "    </tr>\n",
              "    <tr>\n",
              "      <th>3</th>\n",
              "      <td>Sentiment</td>\n",
              "      <td>1.829644e-07</td>\n",
              "    </tr>\n",
              "    <tr>\n",
              "      <th>4</th>\n",
              "      <td>TweetAt</td>\n",
              "      <td>6.376677e-08</td>\n",
              "    </tr>\n",
              "    <tr>\n",
              "      <th>5</th>\n",
              "      <td>UserName</td>\n",
              "      <td>1.285435e-06</td>\n",
              "    </tr>\n",
              "    <tr>\n",
              "      <th>6</th>\n",
              "      <td>clean_text</td>\n",
              "      <td>3.638496e-06</td>\n",
              "    </tr>\n",
              "    <tr>\n",
              "      <th>7</th>\n",
              "      <td>final_text</td>\n",
              "      <td>3.639022e-06</td>\n",
              "    </tr>\n",
              "    <tr>\n",
              "      <th>8</th>\n",
              "      <td>text</td>\n",
              "      <td>1.841894e-06</td>\n",
              "    </tr>\n",
              "    <tr>\n",
              "      <th>9</th>\n",
              "      <td>NaN</td>\n",
              "      <td>3.311695e-06</td>\n",
              "    </tr>\n",
              "  </tbody>\n",
              "</table>\n",
              "</div>\n",
              "      <button class=\"colab-df-convert\" onclick=\"convertToInteractive('df-be18b46a-1751-4332-b349-c65515d7f484')\"\n",
              "              title=\"Convert this dataframe to an interactive table.\"\n",
              "              style=\"display:none;\">\n",
              "        \n",
              "  <svg xmlns=\"http://www.w3.org/2000/svg\" height=\"24px\"viewBox=\"0 0 24 24\"\n",
              "       width=\"24px\">\n",
              "    <path d=\"M0 0h24v24H0V0z\" fill=\"none\"/>\n",
              "    <path d=\"M18.56 5.44l.94 2.06.94-2.06 2.06-.94-2.06-.94-.94-2.06-.94 2.06-2.06.94zm-11 1L8.5 8.5l.94-2.06 2.06-.94-2.06-.94L8.5 2.5l-.94 2.06-2.06.94zm10 10l.94 2.06.94-2.06 2.06-.94-2.06-.94-.94-2.06-.94 2.06-2.06.94z\"/><path d=\"M17.41 7.96l-1.37-1.37c-.4-.4-.92-.59-1.43-.59-.52 0-1.04.2-1.43.59L10.3 9.45l-7.72 7.72c-.78.78-.78 2.05 0 2.83L4 21.41c.39.39.9.59 1.41.59.51 0 1.02-.2 1.41-.59l7.78-7.78 2.81-2.81c.8-.78.8-2.07 0-2.86zM5.41 20L4 18.59l7.72-7.72 1.47 1.35L5.41 20z\"/>\n",
              "  </svg>\n",
              "      </button>\n",
              "      \n",
              "  <style>\n",
              "    .colab-df-container {\n",
              "      display:flex;\n",
              "      flex-wrap:wrap;\n",
              "      gap: 12px;\n",
              "    }\n",
              "\n",
              "    .colab-df-convert {\n",
              "      background-color: #E8F0FE;\n",
              "      border: none;\n",
              "      border-radius: 50%;\n",
              "      cursor: pointer;\n",
              "      display: none;\n",
              "      fill: #1967D2;\n",
              "      height: 32px;\n",
              "      padding: 0 0 0 0;\n",
              "      width: 32px;\n",
              "    }\n",
              "\n",
              "    .colab-df-convert:hover {\n",
              "      background-color: #E2EBFA;\n",
              "      box-shadow: 0px 1px 2px rgba(60, 64, 67, 0.3), 0px 1px 3px 1px rgba(60, 64, 67, 0.15);\n",
              "      fill: #174EA6;\n",
              "    }\n",
              "\n",
              "    [theme=dark] .colab-df-convert {\n",
              "      background-color: #3B4455;\n",
              "      fill: #D2E3FC;\n",
              "    }\n",
              "\n",
              "    [theme=dark] .colab-df-convert:hover {\n",
              "      background-color: #434B5C;\n",
              "      box-shadow: 0px 1px 3px 1px rgba(0, 0, 0, 0.15);\n",
              "      filter: drop-shadow(0px 1px 2px rgba(0, 0, 0, 0.3));\n",
              "      fill: #FFFFFF;\n",
              "    }\n",
              "  </style>\n",
              "\n",
              "      <script>\n",
              "        const buttonEl =\n",
              "          document.querySelector('#df-be18b46a-1751-4332-b349-c65515d7f484 button.colab-df-convert');\n",
              "        buttonEl.style.display =\n",
              "          google.colab.kernel.accessAllowed ? 'block' : 'none';\n",
              "\n",
              "        async function convertToInteractive(key) {\n",
              "          const element = document.querySelector('#df-be18b46a-1751-4332-b349-c65515d7f484');\n",
              "          const dataTable =\n",
              "            await google.colab.kernel.invokeFunction('convertToInteractive',\n",
              "                                                     [key], {});\n",
              "          if (!dataTable) return;\n",
              "\n",
              "          const docLinkHtml = 'Like what you see? Visit the ' +\n",
              "            '<a target=\"_blank\" href=https://colab.research.google.com/notebooks/data_table.ipynb>data table notebook</a>'\n",
              "            + ' to learn more about interactive tables.';\n",
              "          element.innerHTML = '';\n",
              "          dataTable['output_type'] = 'display_data';\n",
              "          await google.colab.output.renderOutput(dataTable, element);\n",
              "          const docLink = document.createElement('div');\n",
              "          docLink.innerHTML = docLinkHtml;\n",
              "          element.appendChild(docLink);\n",
              "        }\n",
              "      </script>\n",
              "    </div>\n",
              "  </div>\n",
              "  "
            ]
          },
          "metadata": {},
          "execution_count": 116
        }
      ]
    },
    {
      "cell_type": "markdown",
      "source": [
        "Table above shows the most import features in our data and their score respectively."
      ],
      "metadata": {
        "id": "TU-70CQ40PDX"
      }
    },
    {
      "cell_type": "markdown",
      "source": [
        "# Conclusion\n",
        "In this study, we employed various Natural Language Processing techniques such as Tokenization, Lemmatization, and TF-IDF to structure our data, followed by cleaning, organization, and pre-processing. We evaluated multiple machine learning models to determine their accuracy and conducted hyperparameter tuning to optimize their performance.\n",
        "\n",
        "All models achieved above-average results, with the exception of the Extreme Gradient Boosting Classifier, which had a training accuracy of 64% and a testing accuracy of 63%. This deviation could be attributed to the limited size of the data, as some models tend to perform better with larger datasets. Hyperparameter tuning revealed the optimal parameters for the Random Forest Classifier.\n",
        "\n",
        "Our results indicate that the data was clean and unbiased, with no missing values. The models performed with minimal errors and losses, despite the small size of the dataset. We did not observe any overfitting or underfitting issues, as the data was not extensive enough to draw such conclusions.\n"
      ],
      "metadata": {
        "id": "GTLhZXLV2W8l"
      }
    },
    {
      "cell_type": "markdown",
      "source": [
        "# Future Work\n",
        "Due to the time constraint, we are unable to perform more detailed analysis as alot can be done with this data to learn more about it. Here are few things we could do in the future,\n",
        "\n",
        "1. Plot confusion matrix on test data for comparison with training data to perform a more detailed sentiment analysis on every model.\n",
        "2. Overfitting and underfitting are two common problems in machine learning that can affect the accuracy and generalization of a model. In our case, the data is not huge but still there are some ways to check for these issues:\n",
        "\n",
        "> - Validation Curves: Plotting the performance of a model on both the training and validation datasets can help to identify overfitting and underfitting. If the model performs well on the training data but poorly on the validation data, then it is likely to be overfitting. On the other hand, if the model performs poorly on both datasets, then it may be underfitting.\n",
        "\n",
        "> - Learning Curves: Plotting the performance of a model as a function of the number of training examples can also help to identify overfitting and underfitting. If the performance on the training set increases with more training examples but the performance on the validation set decreases, then the model is overfitting. If the performance on both datasets increases but not to a satisfactory level, then the model is underfitting.\n",
        "\n",
        "> - Cross-Validation: Cross-validation is a technique for evaluating the performance of a model by splitting the data into several folds and training the model on different combinations of these folds. If the model's performance varies greatly depending on the fold it was trained on, then it is overfitting.\n",
        "\n",
        "> - Regularization: Regularization is a technique for reducing overfitting by adding a penalty term to the loss function that discourages the model from learning noise in the data. If the performance of a model improves with regularization, then it is likely to be overfitting.\n",
        "\n",
        "> In general, finding the right balance between overfitting and underfitting requires experimentation and a thorough understanding of the problem and the data.\n",
        "\n",
        "\n"
      ],
      "metadata": {
        "id": "7QaG-LZynwwc"
      }
    },
    {
      "cell_type": "code",
      "source": [],
      "metadata": {
        "id": "xxM4j5y53jaN"
      },
      "execution_count": null,
      "outputs": []
    }
  ]
}
